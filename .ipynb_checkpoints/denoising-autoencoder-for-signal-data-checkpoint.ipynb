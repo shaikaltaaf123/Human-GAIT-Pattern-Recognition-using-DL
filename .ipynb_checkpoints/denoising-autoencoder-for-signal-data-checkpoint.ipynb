{
 "cells": [
  {
   "cell_type": "markdown",
   "id": "a0d4d279",
   "metadata": {
    "papermill": {
     "duration": 0.009142,
     "end_time": "2023-03-20T16:22:14.074773",
     "exception": false,
     "start_time": "2023-03-20T16:22:14.065631",
     "status": "completed"
    },
    "tags": []
   },
   "source": [
    "# **Libraries**"
   ]
  },
  {
   "cell_type": "code",
   "execution_count": 1,
   "id": "82bb6ede",
   "metadata": {
    "execution": {
     "iopub.execute_input": "2023-03-20T16:22:14.092655Z",
     "iopub.status.busy": "2023-03-20T16:22:14.091894Z",
     "iopub.status.idle": "2023-03-20T16:22:18.094997Z",
     "shell.execute_reply": "2023-03-20T16:22:18.093855Z"
    },
    "papermill": {
     "duration": 4.014697,
     "end_time": "2023-03-20T16:22:18.097611",
     "exception": false,
     "start_time": "2023-03-20T16:22:14.082914",
     "status": "completed"
    },
    "tags": []
   },
   "outputs": [],
   "source": [
    "import pandas as pd\n",
    "import numpy as np\n",
    "import math\n",
    "import matplotlib.pyplot as plt\n",
    "import seaborn as sns\n",
    "import os \n",
    "from tqdm import tqdm\n",
    "\n",
    "import torch\n",
    "import torch.nn as nn\n",
    "import torch.optim as optim\n",
    "\n",
    "\n",
    "from scipy.signal import savgol_filter\n",
    "import scipy.signal as signal\n",
    "import pywt\n",
    "from scipy.interpolate import interp1d\n",
    "from scipy import ndimage\n",
    "\n",
    "from sklearn.ensemble import IsolationForest\n",
    "import copy\n",
    "\n",
    "import plotly.graph_objects as go\n",
    "\n",
    "import warnings\n",
    "warnings.filterwarnings(\"ignore\")"
   ]
  },
  {
   "cell_type": "markdown",
   "id": "6ffd15e5",
   "metadata": {
    "papermill": {
     "duration": 0.007511,
     "end_time": "2023-03-20T16:22:18.113186",
     "exception": false,
     "start_time": "2023-03-20T16:22:18.105675",
     "status": "completed"
    },
    "tags": []
   },
   "source": [
    "# **Utils**"
   ]
  },
  {
   "cell_type": "markdown",
   "id": "efeb6e10",
   "metadata": {
    "papermill": {
     "duration": 0.007568,
     "end_time": "2023-03-20T16:22:18.128446",
     "exception": false,
     "start_time": "2023-03-20T16:22:18.120878",
     "status": "completed"
    },
    "tags": []
   },
   "source": [
    "# Knee angle function"
   ]
  },
  {
   "cell_type": "code",
   "execution_count": 2,
   "id": "9390268f",
   "metadata": {
    "execution": {
     "iopub.execute_input": "2023-03-20T16:22:18.146413Z",
     "iopub.status.busy": "2023-03-20T16:22:18.145973Z",
     "iopub.status.idle": "2023-03-20T16:22:18.155173Z",
     "shell.execute_reply": "2023-03-20T16:22:18.153983Z"
    },
    "papermill": {
     "duration": 0.020348,
     "end_time": "2023-03-20T16:22:18.157309",
     "exception": false,
     "start_time": "2023-03-20T16:22:18.136961",
     "status": "completed"
    },
    "tags": []
   },
   "outputs": [],
   "source": [
    "def calculate_left_knee_angle(df):\n",
    "    '''The function takes a dataframe as input and iterates over each row in the dataframe. For each row, it extracts the accelerometer data for the right thigh and right shin, i.e., accelerometer_right_thigh_x, accelerometer_right_thigh_y, accelerometer_right_shin_x, and accelerometer_right_shin_y.\n",
    "\n",
    "    To calculate the knee angle, the function uses the atan2 function from the math module. The atan2 function takes two arguments, y and x, and returns the angle in radians between the positive x-axis and the point (x, y) in the Cartesian plane.\n",
    "\n",
    "    In this case, the atan2 function is used to calculate the angle between the vector formed by the thigh and shin accelerometer data. Specifically, it calculates the angle between the vector formed by the difference between the y-coordinates of the thigh and shin accelerometer data (thigh_y - shin_y) and the difference between the x-coordinates of the thigh and shin accelerometer data (thigh_x - shin_x).\n",
    "\n",
    "    The math.degrees function is then used to convert the angle from radians to degrees. The resulting knee angle for each row is added to a new column 'knee_angle', which is then returned by the function.\n",
    "    '''\n",
    "    # calculate the knee angle for each row in the data frame\n",
    "    for index, row in df.iterrows():\n",
    "        thigh_x = row['accelerometer_left_thigh_x']\n",
    "        thigh_y = row['accelerometer_left_thigh_y']\n",
    "        shin_x = row['accelerometer_left_shin_x']\n",
    "        shin_y = row['accelerometer_left_shin_y']\n",
    "        \n",
    "        knee_angle = math.degrees(math.atan2(thigh_y - shin_y, thigh_x - shin_x))\n",
    "        \n",
    "        # set the knee angle value using .loc to avoid SettingWithCopyWarning\n",
    "        df.loc[index, 'knee_angle'] = knee_angle\n",
    "        \n",
    "    return df\n",
    "\n",
    "\n",
    "def calculate_right_knee_angle(df):\n",
    "    '''The function takes a dataframe as input and iterates over each row in the dataframe. For each row, it extracts the accelerometer data for the right thigh and right shin, i.e., accelerometer_right_thigh_x, accelerometer_right_thigh_y, accelerometer_right_shin_x, and accelerometer_right_shin_y.\n",
    "\n",
    "    To calculate the knee angle, the function uses the atan2 function from the math module. The atan2 function takes two arguments, y and x, and returns the angle in radians between the positive x-axis and the point (x, y) in the Cartesian plane.\n",
    "\n",
    "    In this case, the atan2 function is used to calculate the angle between the vector formed by the thigh and shin accelerometer data. Specifically, it calculates the angle between the vector formed by the difference between the y-coordinates of the thigh and shin accelerometer data (thigh_y - shin_y) and the difference between the x-coordinates of the thigh and shin accelerometer data (thigh_x - shin_x).\n",
    "\n",
    "    The math.degrees function is then used to convert the angle from radians to degrees. The resulting knee angle for each row is added to a new column 'knee_angle', which is then returned by the function.\n",
    "    '''\n",
    "    # calculate the knee angle for each row in the data frame\n",
    "    for index, row in df.iterrows():\n",
    "        thigh_x = row['accelerometer_right_thigh_x']\n",
    "        thigh_y = row['accelerometer_right_thigh_y']\n",
    "        shin_x = row['accelerometer_right_shin_x']\n",
    "        shin_y = row['accelerometer_right_shin_y']\n",
    "        \n",
    "        knee_angle = math.degrees(math.atan2(thigh_y - shin_y, thigh_x - shin_x))\n",
    "        \n",
    "        # set the knee angle value using .loc to avoid SettingWithCopyWarning\n",
    "        df.loc[index, 'knee_angle'] = knee_angle\n",
    "        \n",
    "    return df"
   ]
  },
  {
   "cell_type": "markdown",
   "id": "2c2337ea",
   "metadata": {
    "papermill": {
     "duration": 0.007318,
     "end_time": "2023-03-20T16:22:18.172315",
     "exception": false,
     "start_time": "2023-03-20T16:22:18.164997",
     "status": "completed"
    },
    "tags": []
   },
   "source": [
    "# Filter function"
   ]
  },
  {
   "cell_type": "code",
   "execution_count": 3,
   "id": "022d55f2",
   "metadata": {
    "execution": {
     "iopub.execute_input": "2023-03-20T16:22:18.189873Z",
     "iopub.status.busy": "2023-03-20T16:22:18.189235Z",
     "iopub.status.idle": "2023-03-20T16:22:18.199757Z",
     "shell.execute_reply": "2023-03-20T16:22:18.198904Z"
    },
    "papermill": {
     "duration": 0.021565,
     "end_time": "2023-03-20T16:22:18.201762",
     "exception": false,
     "start_time": "2023-03-20T16:22:18.180197",
     "status": "completed"
    },
    "tags": []
   },
   "outputs": [],
   "source": [
    "def wavelet_denoise(dfs):\n",
    "    # create a copy of the input dfs\n",
    "    denoised_dfs = dfs.copy()\n",
    "\n",
    "    # define the wavelet and the thresholding function\n",
    "    wavelet = pywt.Wavelet('sym4')\n",
    "    threshold = 0.2\n",
    "\n",
    "    # loop over all dataframes in dfs\n",
    "    for df in tqdm(denoised_dfs):\n",
    "        # loop over all accelerometer and gyroscope columns\n",
    "        for col in df.columns:\n",
    "            if 'accelerometer' in col or 'gyroscope' in col:\n",
    "                # apply the wavelet transform to the column\n",
    "                coeffs = pywt.wavedec(df[col], wavelet)\n",
    "\n",
    "                # apply soft thresholding to the wavelet coefficients\n",
    "                thresholded_coeffs = []\n",
    "                for coeff in coeffs:\n",
    "                    thresholded_coeffs.append(pywt.threshold(coeff, threshold, 'soft'))\n",
    "\n",
    "                # reconstruct the denoised signal from the thresholded wavelet coefficients\n",
    "                denoised_signal = pywt.waverec(thresholded_coeffs, wavelet)\n",
    "\n",
    "                # interpolate the denoised signal to match the length of the original column\n",
    "                t = np.linspace(0, 1, len(denoised_signal))\n",
    "                f = interp1d(t, denoised_signal)\n",
    "                denoised_signal = f(np.linspace(0, 1, len(df[col])))\n",
    "\n",
    "                # replace the original sensor values with the denoised values\n",
    "                df[col] = denoised_signal\n",
    "\n",
    "    # return the denoised dataframes\n",
    "    return denoised_dfs\n",
    "\n",
    "def preprocess_data(dfs, fs, window_length=11, polyorder=4, cutoff=5, order=10, ma_window=5):\n",
    "    \"\"\"\n",
    "    Applies Savitzky-Golay filter, Butterworth filter, and moving average filter on the accelerometer and gyroscope\n",
    "    columns of each dataframe in the input list and returns a new list of preprocessed dataframes without modifying the\n",
    "    original dataframes.\n",
    "\n",
    "    :param dfs: list of dataframes to be filtered\n",
    "    :param fs: sampling frequency of the sensor data\n",
    "    :param window_length: length of the window used for Savitzky-Golay filter (default: 11)\n",
    "    :param polyorder: order of the polynomial used for Savitzky-Golay filter (default: 4)\n",
    "    :param cutoff: cutoff frequency for the Butterworth filter (default: 5)\n",
    "    :param order: order of the Butterworth filter (default: 10)\n",
    "    :param ma_window: window size used for moving average filter (default: 5)\n",
    "    :return: list of preprocessed dataframes\n",
    "    \"\"\"\n",
    "    \n",
    "    filtered_dfs = []\n",
    "    \n",
    "    for df in tqdm(dfs):\n",
    "        # Make a copy of the original dataframe\n",
    "        filtered_df = df.copy()\n",
    "        \n",
    "        # Apply Savitzky-Golay filter\n",
    "        filtered_df = savgol_filter(filtered_df, window_length=window_length, polyorder=polyorder)\n",
    "        \n",
    "        # Apply Butterworth filter\n",
    "        filtered_df = butterworth_filter(filtered_df, fs, cutoff, order=order)\n",
    "        \n",
    "        # Apply moving average filter\n",
    "        filtered_df = moving_average_filter(filtered_df, window_size=ma_window)\n",
    "        \n",
    "        filtered_dfs.append(filtered_df)\n",
    "    \n",
    "    return filtered_dfs"
   ]
  },
  {
   "cell_type": "markdown",
   "id": "ea568dda",
   "metadata": {
    "papermill": {
     "duration": 0.007606,
     "end_time": "2023-03-20T16:22:18.217093",
     "exception": false,
     "start_time": "2023-03-20T16:22:18.209487",
     "status": "completed"
    },
    "tags": []
   },
   "source": [
    "# **I- Data preparation:**"
   ]
  },
  {
   "cell_type": "markdown",
   "id": "a6bdb9a2",
   "metadata": {
    "papermill": {
     "duration": 0.007606,
     "end_time": "2023-03-20T16:22:18.232483",
     "exception": false,
     "start_time": "2023-03-20T16:22:18.224877",
     "status": "completed"
    },
    "tags": []
   },
   "source": [
    "# Gait data"
   ]
  },
  {
   "cell_type": "code",
   "execution_count": 4,
   "id": "003e84ac",
   "metadata": {
    "execution": {
     "iopub.execute_input": "2023-03-20T16:22:18.249582Z",
     "iopub.status.busy": "2023-03-20T16:22:18.249325Z",
     "iopub.status.idle": "2023-03-20T16:22:39.544336Z",
     "shell.execute_reply": "2023-03-20T16:22:39.543161Z"
    },
    "papermill": {
     "duration": 21.306948,
     "end_time": "2023-03-20T16:22:39.547398",
     "exception": false,
     "start_time": "2023-03-20T16:22:18.240450",
     "status": "completed"
    },
    "tags": []
   },
   "outputs": [
    {
     "name": "stderr",
     "output_type": "stream",
     "text": [
      "100%|██████████| 364/364 [00:18<00:00, 19.49it/s]\n",
      "100%|██████████| 364/364 [00:02<00:00, 148.20it/s]\n"
     ]
    }
   ],
   "source": [
    "path = \"/kaggle/input/hugadb-human-gait-database\"\n",
    "files = [f for f in os.listdir(path) if f.endswith(\".csv\")]\n",
    "dfs = []\n",
    "\n",
    "for file in tqdm(files):\n",
    "    data = pd.read_csv(os.path.join(path, file))\n",
    "    data = data.drop(columns= ['Unnamed: 0','EMG_right','EMG_left','accelerometer_right_foot_x','accelerometer_right_foot_y',\n",
    "                              'accelerometer_right_foot_z','gyroscope_right_foot_x','gyroscope_right_foot_y','gyroscope_right_foot_z',\n",
    "                              'accelerometer_right_shin_z','gyroscope_right_shin_z','accelerometer_right_thigh_z','gyroscope_left_shin_z',\n",
    "                              'accelerometer_left_thigh_z','gyroscope_left_shin_z','gyroscope_right_thigh_z','gyroscope_left_thigh_z',\n",
    "                               'accelerometer_left_shin_z','gyroscope_left_foot_z','accelerometer_left_foot_y','accelerometer_left_foot_x',\n",
    "                              'accelerometer_left_foot_z', 'gyroscope_left_foot_x','gyroscope_left_foot_y'], axis=1)\n",
    "    # Calculate the time between successive data points (assuming 50 Hz sampling rate)\n",
    "    time_diff = 0.01\n",
    "    time = [i * time_diff for i in range(len(data))]\n",
    "    data['time'] = time\n",
    "    data['filename'] = file\n",
    "    data['person'] = data['filename'].str.split('_').str[-2:].str.join('_').str.split('.').str[0].astype(str).str[0:2]\n",
    "    data['person'] = data['person'].astype(str).str.lstrip('0').astype(int)\n",
    "    dfs.append(data)\n",
    "    \n",
    "person_dict = {\n",
    "    1: {'weight': 75, 'height': 177, 'age': 24, 'sex': 'M'},\n",
    "    2: {'weight': 80, 'height': 183, 'age': 22, 'sex': 'M'},\n",
    "    3: {'weight': 65, 'height': 183, 'age': 23, 'sex': 'M'},\n",
    "    4: {'weight': 93, 'height': 189, 'age': 24, 'sex': 'M'},\n",
    "    5: {'weight': 63, 'height': 183, 'age': 35, 'sex': 'M'},\n",
    "    6: {'weight': 54, 'height': 168, 'age': 25, 'sex': 'F'},\n",
    "    7: {'weight': 52, 'height': 161, 'age': 22, 'sex': 'F'},\n",
    "    8: {'weight': 80, 'height': 176, 'age': 23, 'sex': 'M'},\n",
    "    9: {'weight': 65, 'height': 175, 'age': 24, 'sex': 'F'},\n",
    "    10: {'weight': 118, 'height': 183, 'age': 27, 'sex': 'M'},\n",
    "    11: {'weight': 85, 'height': 203, 'age': 24, 'sex': 'M'},\n",
    "    12: {'weight': 85, 'height': 192, 'age': 23, 'sex': 'M'},\n",
    "    13: {'weight': 64, 'height': 174, 'age': 18, 'sex': 'M'},\n",
    "    14: {'weight': 68, 'height': 175, 'age': 19, 'sex': 'M'},\n",
    "    15: {'weight': 72, 'height': 178, 'age': 23, 'sex': 'M'},\n",
    "    16: {'weight': 48, 'height': 164, 'age': 26, 'sex': 'F'},\n",
    "    17: {'weight': 85, 'height': 179, 'age': 25, 'sex': 'M'},\n",
    "    18: {'weight': 70, 'height': 180, 'age': 19, 'sex': 'M'}\n",
    "}\n",
    "\n",
    "for df in tqdm(dfs):\n",
    "    person_info = [person_dict[int(person)] for person in df['person']]\n",
    "    df[['weight', 'height', 'age', 'sex']] = pd.DataFrame(person_info)"
   ]
  },
  {
   "cell_type": "code",
   "execution_count": 5,
   "id": "28ca77da",
   "metadata": {
    "execution": {
     "iopub.execute_input": "2023-03-20T16:22:39.580116Z",
     "iopub.status.busy": "2023-03-20T16:22:39.579806Z",
     "iopub.status.idle": "2023-03-20T16:22:39.603366Z",
     "shell.execute_reply": "2023-03-20T16:22:39.602197Z"
    },
    "papermill": {
     "duration": 0.042888,
     "end_time": "2023-03-20T16:22:39.606386",
     "exception": false,
     "start_time": "2023-03-20T16:22:39.563498",
     "status": "completed"
    },
    "tags": []
   },
   "outputs": [
    {
     "data": {
      "text/html": [
       "<div>\n",
       "<style scoped>\n",
       "    .dataframe tbody tr th:only-of-type {\n",
       "        vertical-align: middle;\n",
       "    }\n",
       "\n",
       "    .dataframe tbody tr th {\n",
       "        vertical-align: top;\n",
       "    }\n",
       "\n",
       "    .dataframe thead th {\n",
       "        text-align: right;\n",
       "    }\n",
       "</style>\n",
       "<table border=\"1\" class=\"dataframe\">\n",
       "  <thead>\n",
       "    <tr style=\"text-align: right;\">\n",
       "      <th></th>\n",
       "      <th>accelerometer_right_shin_x</th>\n",
       "      <th>accelerometer_right_shin_y</th>\n",
       "      <th>gyroscope_right_shin_x</th>\n",
       "      <th>gyroscope_right_shin_y</th>\n",
       "      <th>accelerometer_right_thigh_x</th>\n",
       "      <th>accelerometer_right_thigh_y</th>\n",
       "      <th>gyroscope_right_thigh_x</th>\n",
       "      <th>gyroscope_right_thigh_y</th>\n",
       "      <th>accelerometer_left_shin_x</th>\n",
       "      <th>accelerometer_left_shin_y</th>\n",
       "      <th>...</th>\n",
       "      <th>gyroscope_left_thigh_x</th>\n",
       "      <th>gyroscope_left_thigh_y</th>\n",
       "      <th>activity</th>\n",
       "      <th>time</th>\n",
       "      <th>filename</th>\n",
       "      <th>person</th>\n",
       "      <th>weight</th>\n",
       "      <th>height</th>\n",
       "      <th>age</th>\n",
       "      <th>sex</th>\n",
       "    </tr>\n",
       "  </thead>\n",
       "  <tbody>\n",
       "    <tr>\n",
       "      <th>0</th>\n",
       "      <td>-15900</td>\n",
       "      <td>1512</td>\n",
       "      <td>-54</td>\n",
       "      <td>-165</td>\n",
       "      <td>-15692</td>\n",
       "      <td>-1408</td>\n",
       "      <td>11</td>\n",
       "      <td>-257</td>\n",
       "      <td>-15792</td>\n",
       "      <td>4320</td>\n",
       "      <td>...</td>\n",
       "      <td>23</td>\n",
       "      <td>-25</td>\n",
       "      <td>standing</td>\n",
       "      <td>0.00</td>\n",
       "      <td>HuGaDB_v2_various_03_20.csv</td>\n",
       "      <td>3</td>\n",
       "      <td>65</td>\n",
       "      <td>183</td>\n",
       "      <td>23</td>\n",
       "      <td>M</td>\n",
       "    </tr>\n",
       "    <tr>\n",
       "      <th>1</th>\n",
       "      <td>-15832</td>\n",
       "      <td>1532</td>\n",
       "      <td>29</td>\n",
       "      <td>-180</td>\n",
       "      <td>-15664</td>\n",
       "      <td>-1440</td>\n",
       "      <td>20</td>\n",
       "      <td>-323</td>\n",
       "      <td>-15728</td>\n",
       "      <td>4240</td>\n",
       "      <td>...</td>\n",
       "      <td>37</td>\n",
       "      <td>-23</td>\n",
       "      <td>standing</td>\n",
       "      <td>0.01</td>\n",
       "      <td>HuGaDB_v2_various_03_20.csv</td>\n",
       "      <td>3</td>\n",
       "      <td>65</td>\n",
       "      <td>183</td>\n",
       "      <td>23</td>\n",
       "      <td>M</td>\n",
       "    </tr>\n",
       "    <tr>\n",
       "      <th>2</th>\n",
       "      <td>-15936</td>\n",
       "      <td>1500</td>\n",
       "      <td>20</td>\n",
       "      <td>-146</td>\n",
       "      <td>-15632</td>\n",
       "      <td>-1476</td>\n",
       "      <td>-17</td>\n",
       "      <td>-329</td>\n",
       "      <td>-15752</td>\n",
       "      <td>4168</td>\n",
       "      <td>...</td>\n",
       "      <td>37</td>\n",
       "      <td>-31</td>\n",
       "      <td>standing</td>\n",
       "      <td>0.02</td>\n",
       "      <td>HuGaDB_v2_various_03_20.csv</td>\n",
       "      <td>3</td>\n",
       "      <td>65</td>\n",
       "      <td>183</td>\n",
       "      <td>23</td>\n",
       "      <td>M</td>\n",
       "    </tr>\n",
       "    <tr>\n",
       "      <th>3</th>\n",
       "      <td>-15932</td>\n",
       "      <td>1464</td>\n",
       "      <td>24</td>\n",
       "      <td>-149</td>\n",
       "      <td>-15840</td>\n",
       "      <td>-1552</td>\n",
       "      <td>25</td>\n",
       "      <td>-300</td>\n",
       "      <td>-15952</td>\n",
       "      <td>4128</td>\n",
       "      <td>...</td>\n",
       "      <td>35</td>\n",
       "      <td>-42</td>\n",
       "      <td>standing</td>\n",
       "      <td>0.03</td>\n",
       "      <td>HuGaDB_v2_various_03_20.csv</td>\n",
       "      <td>3</td>\n",
       "      <td>65</td>\n",
       "      <td>183</td>\n",
       "      <td>23</td>\n",
       "      <td>M</td>\n",
       "    </tr>\n",
       "    <tr>\n",
       "      <th>4</th>\n",
       "      <td>-15960</td>\n",
       "      <td>1576</td>\n",
       "      <td>14</td>\n",
       "      <td>-160</td>\n",
       "      <td>-15816</td>\n",
       "      <td>-1580</td>\n",
       "      <td>87</td>\n",
       "      <td>-204</td>\n",
       "      <td>-15808</td>\n",
       "      <td>4152</td>\n",
       "      <td>...</td>\n",
       "      <td>49</td>\n",
       "      <td>-38</td>\n",
       "      <td>standing</td>\n",
       "      <td>0.04</td>\n",
       "      <td>HuGaDB_v2_various_03_20.csv</td>\n",
       "      <td>3</td>\n",
       "      <td>65</td>\n",
       "      <td>183</td>\n",
       "      <td>23</td>\n",
       "      <td>M</td>\n",
       "    </tr>\n",
       "  </tbody>\n",
       "</table>\n",
       "<p>5 rows × 24 columns</p>\n",
       "</div>"
      ],
      "text/plain": [
       "   accelerometer_right_shin_x  accelerometer_right_shin_y  \\\n",
       "0                      -15900                        1512   \n",
       "1                      -15832                        1532   \n",
       "2                      -15936                        1500   \n",
       "3                      -15932                        1464   \n",
       "4                      -15960                        1576   \n",
       "\n",
       "   gyroscope_right_shin_x  gyroscope_right_shin_y  \\\n",
       "0                     -54                    -165   \n",
       "1                      29                    -180   \n",
       "2                      20                    -146   \n",
       "3                      24                    -149   \n",
       "4                      14                    -160   \n",
       "\n",
       "   accelerometer_right_thigh_x  accelerometer_right_thigh_y  \\\n",
       "0                       -15692                        -1408   \n",
       "1                       -15664                        -1440   \n",
       "2                       -15632                        -1476   \n",
       "3                       -15840                        -1552   \n",
       "4                       -15816                        -1580   \n",
       "\n",
       "   gyroscope_right_thigh_x  gyroscope_right_thigh_y  \\\n",
       "0                       11                     -257   \n",
       "1                       20                     -323   \n",
       "2                      -17                     -329   \n",
       "3                       25                     -300   \n",
       "4                       87                     -204   \n",
       "\n",
       "   accelerometer_left_shin_x  accelerometer_left_shin_y  ...  \\\n",
       "0                     -15792                       4320  ...   \n",
       "1                     -15728                       4240  ...   \n",
       "2                     -15752                       4168  ...   \n",
       "3                     -15952                       4128  ...   \n",
       "4                     -15808                       4152  ...   \n",
       "\n",
       "   gyroscope_left_thigh_x  gyroscope_left_thigh_y  activity  time  \\\n",
       "0                      23                     -25  standing  0.00   \n",
       "1                      37                     -23  standing  0.01   \n",
       "2                      37                     -31  standing  0.02   \n",
       "3                      35                     -42  standing  0.03   \n",
       "4                      49                     -38  standing  0.04   \n",
       "\n",
       "                      filename  person weight  height age  sex  \n",
       "0  HuGaDB_v2_various_03_20.csv       3     65     183  23    M  \n",
       "1  HuGaDB_v2_various_03_20.csv       3     65     183  23    M  \n",
       "2  HuGaDB_v2_various_03_20.csv       3     65     183  23    M  \n",
       "3  HuGaDB_v2_various_03_20.csv       3     65     183  23    M  \n",
       "4  HuGaDB_v2_various_03_20.csv       3     65     183  23    M  \n",
       "\n",
       "[5 rows x 24 columns]"
      ]
     },
     "execution_count": 5,
     "metadata": {},
     "output_type": "execute_result"
    }
   ],
   "source": [
    "dfs[0].head()"
   ]
  },
  {
   "cell_type": "code",
   "execution_count": 6,
   "id": "772934ca",
   "metadata": {
    "execution": {
     "iopub.execute_input": "2023-03-20T16:22:39.639134Z",
     "iopub.status.busy": "2023-03-20T16:22:39.638274Z",
     "iopub.status.idle": "2023-03-20T16:22:39.645305Z",
     "shell.execute_reply": "2023-03-20T16:22:39.644165Z"
    },
    "papermill": {
     "duration": 0.025767,
     "end_time": "2023-03-20T16:22:39.647500",
     "exception": false,
     "start_time": "2023-03-20T16:22:39.621733",
     "status": "completed"
    },
    "tags": []
   },
   "outputs": [
    {
     "data": {
      "text/plain": [
       "Index(['accelerometer_right_shin_x', 'accelerometer_right_shin_y',\n",
       "       'gyroscope_right_shin_x', 'gyroscope_right_shin_y',\n",
       "       'accelerometer_right_thigh_x', 'accelerometer_right_thigh_y',\n",
       "       'gyroscope_right_thigh_x', 'gyroscope_right_thigh_y',\n",
       "       'accelerometer_left_shin_x', 'accelerometer_left_shin_y',\n",
       "       'gyroscope_left_shin_x', 'gyroscope_left_shin_y',\n",
       "       'accelerometer_left_thigh_x', 'accelerometer_left_thigh_y',\n",
       "       'gyroscope_left_thigh_x', 'gyroscope_left_thigh_y', 'activity', 'time',\n",
       "       'filename', 'person', 'weight', 'height', 'age', 'sex'],\n",
       "      dtype='object')"
      ]
     },
     "execution_count": 6,
     "metadata": {},
     "output_type": "execute_result"
    }
   ],
   "source": [
    "dfs[0].columns"
   ]
  },
  {
   "cell_type": "markdown",
   "id": "9c3b83a7",
   "metadata": {
    "papermill": {
     "duration": 0.015238,
     "end_time": "2023-03-20T16:22:39.677956",
     "exception": false,
     "start_time": "2023-03-20T16:22:39.662718",
     "status": "completed"
    },
    "tags": []
   },
   "source": [
    "# **II- Data cleaning**"
   ]
  },
  {
   "cell_type": "markdown",
   "id": "daf6feb0",
   "metadata": {
    "papermill": {
     "duration": 0.015539,
     "end_time": "2023-03-20T16:22:39.708819",
     "exception": false,
     "start_time": "2023-03-20T16:22:39.693280",
     "status": "completed"
    },
    "tags": []
   },
   "source": [
    "# Check for NaN values"
   ]
  },
  {
   "cell_type": "code",
   "execution_count": 7,
   "id": "df438f74",
   "metadata": {
    "execution": {
     "iopub.execute_input": "2023-03-20T16:22:39.740752Z",
     "iopub.status.busy": "2023-03-20T16:22:39.740490Z",
     "iopub.status.idle": "2023-03-20T16:22:40.081837Z",
     "shell.execute_reply": "2023-03-20T16:22:40.080661Z"
    },
    "papermill": {
     "duration": 0.35997,
     "end_time": "2023-03-20T16:22:40.084073",
     "exception": false,
     "start_time": "2023-03-20T16:22:39.724103",
     "status": "completed"
    },
    "tags": []
   },
   "outputs": [
    {
     "name": "stdout",
     "output_type": "stream",
     "text": [
      "False\n"
     ]
    }
   ],
   "source": [
    "has_nan = [df.isnull().values.any() for df in dfs]\n",
    "print(any(has_nan))"
   ]
  },
  {
   "cell_type": "markdown",
   "id": "763c97fe",
   "metadata": {
    "papermill": {
     "duration": 0.015307,
     "end_time": "2023-03-20T16:22:40.115799",
     "exception": false,
     "start_time": "2023-03-20T16:22:40.100492",
     "status": "completed"
    },
    "tags": []
   },
   "source": [
    "# Removing outliers using isolation forrest model"
   ]
  },
  {
   "cell_type": "code",
   "execution_count": 8,
   "id": "183dc23c",
   "metadata": {
    "execution": {
     "iopub.execute_input": "2023-03-20T16:22:40.148603Z",
     "iopub.status.busy": "2023-03-20T16:22:40.147729Z",
     "iopub.status.idle": "2023-03-20T16:22:40.154732Z",
     "shell.execute_reply": "2023-03-20T16:22:40.153797Z"
    },
    "papermill": {
     "duration": 0.025727,
     "end_time": "2023-03-20T16:22:40.156910",
     "exception": false,
     "start_time": "2023-03-20T16:22:40.131183",
     "status": "completed"
    },
    "tags": []
   },
   "outputs": [
    {
     "data": {
      "text/plain": [
       "\"# Define the Isolation Forest model with contamination parameter\\nmodel = IsolationForest(n_estimators=1000, max_samples='auto', contamination='auto', random_state=42)\\n\\n# Create a copy of the dfs list\\ndfs_filtered = copy.deepcopy(dfs)\\n\\n# Loop through each dataframe in the list and apply the Isolation Forest model\\nfor i, df in enumerate(tqdm(dfs)):\\n    # Select only the numerical columns\\n    num_cols = df.select_dtypes(include=['float64', 'int64']).columns.tolist()\\n    data = df[num_cols].values\\n    \\n    # Fit the model and predict outliers\\n    model.fit(data)\\n    outliers = model.predict(data)\\n    \\n    # Remove the outliers from the dataframe copy\\n    dfs_filtered[i] = df[outliers != -1]\""
      ]
     },
     "execution_count": 8,
     "metadata": {},
     "output_type": "execute_result"
    }
   ],
   "source": [
    "'''# Define the Isolation Forest model with contamination parameter\n",
    "model = IsolationForest(n_estimators=1000, max_samples='auto', contamination='auto', random_state=42)\n",
    "\n",
    "# Create a copy of the dfs list\n",
    "dfs_filtered = copy.deepcopy(dfs)\n",
    "\n",
    "# Loop through each dataframe in the list and apply the Isolation Forest model\n",
    "for i, df in enumerate(tqdm(dfs)):\n",
    "    # Select only the numerical columns\n",
    "    num_cols = df.select_dtypes(include=['float64', 'int64']).columns.tolist()\n",
    "    data = df[num_cols].values\n",
    "    \n",
    "    # Fit the model and predict outliers\n",
    "    model.fit(data)\n",
    "    outliers = model.predict(data)\n",
    "    \n",
    "    # Remove the outliers from the dataframe copy\n",
    "    dfs_filtered[i] = df[outliers != -1]'''"
   ]
  },
  {
   "cell_type": "markdown",
   "id": "eccf40ee",
   "metadata": {
    "papermill": {
     "duration": 0.01541,
     "end_time": "2023-03-20T16:22:40.187692",
     "exception": false,
     "start_time": "2023-03-20T16:22:40.172282",
     "status": "completed"
    },
    "tags": []
   },
   "source": [
    "# Denoising autoencoder"
   ]
  },
  {
   "cell_type": "code",
   "execution_count": 9,
   "id": "2edc31a4",
   "metadata": {
    "execution": {
     "iopub.execute_input": "2023-03-20T16:22:40.220539Z",
     "iopub.status.busy": "2023-03-20T16:22:40.219718Z",
     "iopub.status.idle": "2023-03-20T16:22:44.053002Z",
     "shell.execute_reply": "2023-03-20T16:22:44.051911Z"
    },
    "papermill": {
     "duration": 3.852816,
     "end_time": "2023-03-20T16:22:44.056014",
     "exception": false,
     "start_time": "2023-03-20T16:22:40.203198",
     "status": "completed"
    },
    "tags": []
   },
   "outputs": [],
   "source": [
    "# Instantiate the autoencoder\n",
    "device = torch.device('cuda' if torch.cuda.is_available() else 'cpu')\n",
    "\n",
    "# Select the columns that correspond to the sensor data\n",
    "sensor_cols = ['accelerometer_right_shin_x', 'accelerometer_right_shin_y', 'gyroscope_right_shin_x', 'gyroscope_right_shin_y',\n",
    "               'accelerometer_right_thigh_x', 'accelerometer_right_thigh_y', 'gyroscope_right_thigh_x', 'gyroscope_right_thigh_y',\n",
    "               'accelerometer_left_shin_x', 'accelerometer_left_shin_y', 'gyroscope_left_shin_x', 'gyroscope_left_shin_y',\n",
    "               'accelerometer_left_thigh_x', 'accelerometer_left_thigh_y', 'gyroscope_left_thigh_x', 'gyroscope_left_thigh_y']\n",
    "\n",
    "sensor_data = pd.concat([df[sensor_cols] for df in dfs], axis=0, ignore_index=True)\n",
    "\n",
    "# Normalize the data\n",
    "sensor_data = (sensor_data - sensor_data.mean()) / sensor_data.std()\n",
    "\n",
    "# Convert the dataframe to a PyTorch tensor\n",
    "sensor_data = torch.tensor(sensor_data.values).float().to(device)"
   ]
  },
  {
   "cell_type": "code",
   "execution_count": 10,
   "id": "31524f79",
   "metadata": {
    "execution": {
     "iopub.execute_input": "2023-03-20T16:22:44.089266Z",
     "iopub.status.busy": "2023-03-20T16:22:44.088926Z",
     "iopub.status.idle": "2023-03-20T16:22:44.138093Z",
     "shell.execute_reply": "2023-03-20T16:22:44.137163Z"
    },
    "papermill": {
     "duration": 0.068201,
     "end_time": "2023-03-20T16:22:44.140216",
     "exception": false,
     "start_time": "2023-03-20T16:22:44.072015",
     "status": "completed"
    },
    "tags": []
   },
   "outputs": [],
   "source": [
    "class SensorAutoencoder(nn.Module):\n",
    "    def __init__(self, input_size, hidden_size, device):\n",
    "        super().__init__()\n",
    "        self.encoder = nn.Sequential(\n",
    "            nn.Linear(input_size, 512),\n",
    "            nn.BatchNorm1d(512),\n",
    "            nn.ReLU(),\n",
    "            nn.Linear(512, 256),\n",
    "            nn.BatchNorm1d(256),\n",
    "            nn.ReLU(),\n",
    "            nn.Linear(256, 128),\n",
    "            nn.BatchNorm1d(128),\n",
    "            nn.ReLU(),\n",
    "            nn.Linear(128, hidden_size),\n",
    "        )\n",
    "        self.decoder = nn.Sequential(\n",
    "            nn.Linear(hidden_size, 128),\n",
    "            nn.BatchNorm1d(128),\n",
    "            nn.ReLU(),\n",
    "            nn.Linear(128, 256),\n",
    "            nn.BatchNorm1d(256),\n",
    "            nn.ReLU(),\n",
    "            nn.Linear(256, 512),\n",
    "            nn.BatchNorm1d(512),\n",
    "            nn.ReLU(),\n",
    "            nn.Linear(512, input_size),\n",
    "        )\n",
    "        self.device = device\n",
    "    \n",
    "    def forward(self, x):\n",
    "        x = self.encoder(x)\n",
    "        x = self.decoder(x)\n",
    "        return x\n",
    "    \n",
    "    def l1_regularization(self, l1_lambda):\n",
    "        l1_reg = torch.tensor(0., device=self.device)\n",
    "        for name, param in self.named_parameters():\n",
    "            if 'weight' in name:\n",
    "                l1_reg += torch.norm(param, 1)\n",
    "        return l1_lambda * l1_reg\n",
    "\n",
    "# Define the input and hidden dimensions of the autoencoder\n",
    "input_dim = len(sensor_cols)  # This should be the number of sensor columns in your dataframe\n",
    "hidden_dim = 512\n",
    "\n",
    "autoencoder = SensorAutoencoder(input_dim, hidden_dim, device=device).to(device)\n",
    "\n",
    "# Define the loss function and optimizer\n",
    "criterion = nn.MSELoss()\n",
    "optimizer = optim.Adam(autoencoder.parameters(), lr=0.0001)\n",
    "\n",
    "# Define a learning rate scheduler\n",
    "scheduler = torch.optim.lr_scheduler.ReduceLROnPlateau(optimizer, mode='min', factor=0.1, patience=3)\n",
    "\n",
    "# Define early stopping parameters\n",
    "patience = 10\n",
    "best_loss = float('inf')\n",
    "counter = 0\n",
    "\n",
    "# Define the number of epochs to train for\n",
    "num_epochs = 100\n",
    "\n",
    "# Define the L1 regularization lambda\n",
    "l1_lambda = 0.001\n",
    "\n",
    "\n",
    "# Define a dataloader to iterate over the data in batches\n",
    "batch_size = 64\n",
    "data_loader = torch.utils.data.DataLoader(sensor_data, batch_size=batch_size, shuffle=True)"
   ]
  },
  {
   "cell_type": "code",
   "execution_count": 11,
   "id": "40e73f2f",
   "metadata": {
    "execution": {
     "iopub.execute_input": "2023-03-20T16:22:44.173012Z",
     "iopub.status.busy": "2023-03-20T16:22:44.172199Z",
     "iopub.status.idle": "2023-03-20T17:36:19.749692Z",
     "shell.execute_reply": "2023-03-20T17:36:19.748528Z"
    },
    "papermill": {
     "duration": 4415.614633,
     "end_time": "2023-03-20T17:36:19.770338",
     "exception": false,
     "start_time": "2023-03-20T16:22:44.155705",
     "status": "completed"
    },
    "tags": []
   },
   "outputs": [
    {
     "name": "stdout",
     "output_type": "stream",
     "text": [
      "Epoch [1/100], Loss: 0.3407, Val Loss: 0.0138\n",
      "Epoch [2/100], Loss: 0.2368, Val Loss: 0.0083\n",
      "Epoch [3/100], Loss: 0.1902, Val Loss: 0.0087\n",
      "Epoch [4/100], Loss: 0.1860, Val Loss: 0.0065\n",
      "Epoch [5/100], Loss: 0.1776, Val Loss: 0.0058\n",
      "Epoch [6/100], Loss: 0.1877, Val Loss: 0.0052\n",
      "Epoch [7/100], Loss: 0.1718, Val Loss: 0.0044\n",
      "Epoch [8/100], Loss: 0.1475, Val Loss: 0.0049\n",
      "Epoch [9/100], Loss: 0.1463, Val Loss: 0.0049\n",
      "Epoch [10/100], Loss: 0.1822, Val Loss: 0.0056\n",
      "Epoch [11/100], Loss: 0.1692, Val Loss: 0.0058\n",
      "Epoch [12/100], Loss: 0.1370, Val Loss: 0.0030\n",
      "Epoch [13/100], Loss: 0.1453, Val Loss: 0.0031\n",
      "Epoch [14/100], Loss: 0.1317, Val Loss: 0.0029\n",
      "Epoch [15/100], Loss: 0.1278, Val Loss: 0.0032\n",
      "Epoch [16/100], Loss: 0.1193, Val Loss: 0.0032\n",
      "Epoch [17/100], Loss: 0.1307, Val Loss: 0.0037\n",
      "Epoch [18/100], Loss: 0.1305, Val Loss: 0.0031\n",
      "Epoch [19/100], Loss: 0.1412, Val Loss: 0.0028\n",
      "Epoch [20/100], Loss: 0.1164, Val Loss: 0.0028\n",
      "Epoch [21/100], Loss: 0.1667, Val Loss: 0.0027\n",
      "Epoch [22/100], Loss: 0.1265, Val Loss: 0.0028\n",
      "Epoch [23/100], Loss: 0.1242, Val Loss: 0.0027\n",
      "Epoch [24/100], Loss: 0.1284, Val Loss: 0.0027\n",
      "Epoch [25/100], Loss: 0.1356, Val Loss: 0.0028\n",
      "Epoch [26/100], Loss: 0.1346, Val Loss: 0.0027\n",
      "Epoch [27/100], Loss: 0.1205, Val Loss: 0.0027\n",
      "Epoch [28/100], Loss: 0.1235, Val Loss: 0.0027\n",
      "Epoch [29/100], Loss: 0.1293, Val Loss: 0.0027\n",
      "Epoch [30/100], Loss: 0.1490, Val Loss: 0.0027\n",
      "Epoch [31/100], Loss: 0.1267, Val Loss: 0.0027\n",
      "Epoch [32/100], Loss: 0.1508, Val Loss: 0.0027\n",
      "Epoch [33/100], Loss: 0.1723, Val Loss: 0.0027\n",
      "Epoch [34/100], Loss: 0.1246, Val Loss: 0.0027\n",
      "Epoch [35/100], Loss: 0.1548, Val Loss: 0.0027\n",
      "Epoch [36/100], Loss: 0.1228, Val Loss: 0.0027\n",
      "Epoch [37/100], Loss: 0.1238, Val Loss: 0.0027\n",
      "Epoch [38/100], Loss: 0.1331, Val Loss: 0.0027\n",
      "Epoch [39/100], Loss: 0.1560, Val Loss: 0.0027\n",
      "Epoch [40/100], Loss: 0.1422, Val Loss: 0.0027\n",
      "Epoch [41/100], Loss: 0.1208, Val Loss: 0.0027\n",
      "Epoch [42/100], Loss: 0.1286, Val Loss: 0.0027\n",
      "Early stopping at epoch 41\n"
     ]
    }
   ],
   "source": [
    "#Train the autoencoder\n",
    "for epoch in range(num_epochs):\n",
    "    for data in data_loader:\n",
    "        optimizer.zero_grad()\n",
    "        data = data.to(device)\n",
    "        recon_data = autoencoder(data)\n",
    "        l1_reg = autoencoder.l1_regularization(l1_lambda)\n",
    "        loss = criterion(recon_data, data) + l1_reg\n",
    "        loss.backward()\n",
    "        optimizer.step()\n",
    "\n",
    "    # Evaluate the loss on the entire dataset\n",
    "    with torch.no_grad():\n",
    "        recon_data = autoencoder(sensor_data)\n",
    "        val_loss = criterion(recon_data, sensor_data)\n",
    "    \n",
    "    # Update the learning rate scheduler and print the loss after every epoch\n",
    "    scheduler.step(val_loss)\n",
    "    print('Epoch [{}/{}], Loss: {:.4f}, Val Loss: {:.4f}'.format(epoch+1, num_epochs, loss.item(), val_loss.item()))\n",
    "\n",
    "    # Early stopping\n",
    "    if val_loss < best_loss:\n",
    "        best_loss = val_loss\n",
    "        counter = 0\n",
    "    else:\n",
    "        counter += 1\n",
    "    if counter >= patience:\n",
    "        print(f'Early stopping at epoch {epoch}')\n",
    "        break"
   ]
  },
  {
   "cell_type": "code",
   "execution_count": 12,
   "id": "08f0eeab",
   "metadata": {
    "execution": {
     "iopub.execute_input": "2023-03-20T17:36:19.814292Z",
     "iopub.status.busy": "2023-03-20T17:36:19.812725Z",
     "iopub.status.idle": "2023-03-20T17:36:19.828196Z",
     "shell.execute_reply": "2023-03-20T17:36:19.827280Z"
    },
    "papermill": {
     "duration": 0.042024,
     "end_time": "2023-03-20T17:36:19.830565",
     "exception": false,
     "start_time": "2023-03-20T17:36:19.788541",
     "status": "completed"
    },
    "tags": []
   },
   "outputs": [],
   "source": [
    "torch.save(autoencoder.state_dict(), 'sensor_autoencoder_2.pt')"
   ]
  },
  {
   "cell_type": "code",
   "execution_count": 13,
   "id": "82ecd74a",
   "metadata": {
    "execution": {
     "iopub.execute_input": "2023-03-20T17:36:19.868743Z",
     "iopub.status.busy": "2023-03-20T17:36:19.867292Z",
     "iopub.status.idle": "2023-03-20T17:36:21.325484Z",
     "shell.execute_reply": "2023-03-20T17:36:21.324278Z"
    },
    "papermill": {
     "duration": 1.479361,
     "end_time": "2023-03-20T17:36:21.327708",
     "exception": false,
     "start_time": "2023-03-20T17:36:19.848347",
     "status": "completed"
    },
    "tags": []
   },
   "outputs": [
    {
     "name": "stderr",
     "output_type": "stream",
     "text": [
      "100%|██████████| 364/364 [00:01<00:00, 251.77it/s]\n"
     ]
    }
   ],
   "source": [
    "denoised_dfs = []\n",
    "# Loop over the original dataframes\n",
    "for i, df in tqdm(enumerate(dfs), total=len(dfs)):\n",
    "    # Convert the dataframe to a PyTorch tensor and pass it through the autoencoder\n",
    "    df_tensor = torch.tensor(df[sensor_cols].values).float().to(device)\n",
    "    denoised_tensor = autoencoder(df_tensor)\n",
    "\n",
    "    # Convert the denoised tensor back to a Pandas dataframe and combine it with the original dataframe\n",
    "    denoised_df = pd.DataFrame(denoised_tensor.detach().cpu().numpy(), columns=sensor_cols)\n",
    "    denoised_df.index = df.index\n",
    "    denoised_df = pd.concat([df.drop(sensor_cols, axis=1), denoised_df], axis=1)\n",
    "    \n",
    "    # Append the denoised dataframe to the list\n",
    "    denoised_dfs.append(denoised_df)"
   ]
  },
  {
   "cell_type": "code",
   "execution_count": 14,
   "id": "1e0675ec",
   "metadata": {
    "execution": {
     "iopub.execute_input": "2023-03-20T17:36:21.369394Z",
     "iopub.status.busy": "2023-03-20T17:36:21.369034Z",
     "iopub.status.idle": "2023-03-20T17:36:21.401257Z",
     "shell.execute_reply": "2023-03-20T17:36:21.399864Z"
    },
    "papermill": {
     "duration": 0.05699,
     "end_time": "2023-03-20T17:36:21.404160",
     "exception": false,
     "start_time": "2023-03-20T17:36:21.347170",
     "status": "completed"
    },
    "tags": []
   },
   "outputs": [
    {
     "data": {
      "text/html": [
       "<div>\n",
       "<style scoped>\n",
       "    .dataframe tbody tr th:only-of-type {\n",
       "        vertical-align: middle;\n",
       "    }\n",
       "\n",
       "    .dataframe tbody tr th {\n",
       "        vertical-align: top;\n",
       "    }\n",
       "\n",
       "    .dataframe thead th {\n",
       "        text-align: right;\n",
       "    }\n",
       "</style>\n",
       "<table border=\"1\" class=\"dataframe\">\n",
       "  <thead>\n",
       "    <tr style=\"text-align: right;\">\n",
       "      <th></th>\n",
       "      <th>activity</th>\n",
       "      <th>time</th>\n",
       "      <th>filename</th>\n",
       "      <th>person</th>\n",
       "      <th>weight</th>\n",
       "      <th>height</th>\n",
       "      <th>age</th>\n",
       "      <th>sex</th>\n",
       "      <th>accelerometer_right_shin_x</th>\n",
       "      <th>accelerometer_right_shin_y</th>\n",
       "      <th>...</th>\n",
       "      <th>gyroscope_right_thigh_x</th>\n",
       "      <th>gyroscope_right_thigh_y</th>\n",
       "      <th>accelerometer_left_shin_x</th>\n",
       "      <th>accelerometer_left_shin_y</th>\n",
       "      <th>gyroscope_left_shin_x</th>\n",
       "      <th>gyroscope_left_shin_y</th>\n",
       "      <th>accelerometer_left_thigh_x</th>\n",
       "      <th>accelerometer_left_thigh_y</th>\n",
       "      <th>gyroscope_left_thigh_x</th>\n",
       "      <th>gyroscope_left_thigh_y</th>\n",
       "    </tr>\n",
       "  </thead>\n",
       "  <tbody>\n",
       "    <tr>\n",
       "      <th>0</th>\n",
       "      <td>standing</td>\n",
       "      <td>0.00</td>\n",
       "      <td>HuGaDB_v2_various_07_19.csv</td>\n",
       "      <td>7</td>\n",
       "      <td>52</td>\n",
       "      <td>161</td>\n",
       "      <td>22</td>\n",
       "      <td>F</td>\n",
       "      <td>-0.107673</td>\n",
       "      <td>-0.884439</td>\n",
       "      <td>...</td>\n",
       "      <td>0.070794</td>\n",
       "      <td>0.267006</td>\n",
       "      <td>-0.006241</td>\n",
       "      <td>-3.379800</td>\n",
       "      <td>-0.028462</td>\n",
       "      <td>0.160814</td>\n",
       "      <td>0.014758</td>\n",
       "      <td>-2.483240</td>\n",
       "      <td>-0.021056</td>\n",
       "      <td>-0.391887</td>\n",
       "    </tr>\n",
       "    <tr>\n",
       "      <th>1</th>\n",
       "      <td>standing</td>\n",
       "      <td>0.01</td>\n",
       "      <td>HuGaDB_v2_various_07_19.csv</td>\n",
       "      <td>7</td>\n",
       "      <td>52</td>\n",
       "      <td>161</td>\n",
       "      <td>22</td>\n",
       "      <td>F</td>\n",
       "      <td>-0.066968</td>\n",
       "      <td>-0.719065</td>\n",
       "      <td>...</td>\n",
       "      <td>0.156643</td>\n",
       "      <td>-0.014225</td>\n",
       "      <td>0.604659</td>\n",
       "      <td>-3.214842</td>\n",
       "      <td>-0.034063</td>\n",
       "      <td>-0.300038</td>\n",
       "      <td>-0.809060</td>\n",
       "      <td>-1.709449</td>\n",
       "      <td>-0.151850</td>\n",
       "      <td>0.204215</td>\n",
       "    </tr>\n",
       "    <tr>\n",
       "      <th>2</th>\n",
       "      <td>standing</td>\n",
       "      <td>0.02</td>\n",
       "      <td>HuGaDB_v2_various_07_19.csv</td>\n",
       "      <td>7</td>\n",
       "      <td>52</td>\n",
       "      <td>161</td>\n",
       "      <td>22</td>\n",
       "      <td>F</td>\n",
       "      <td>-0.066968</td>\n",
       "      <td>-1.700522</td>\n",
       "      <td>...</td>\n",
       "      <td>0.127307</td>\n",
       "      <td>-0.253029</td>\n",
       "      <td>0.039111</td>\n",
       "      <td>-3.517576</td>\n",
       "      <td>0.005876</td>\n",
       "      <td>-0.615921</td>\n",
       "      <td>-1.331798</td>\n",
       "      <td>-0.844585</td>\n",
       "      <td>-0.221674</td>\n",
       "      <td>0.764353</td>\n",
       "    </tr>\n",
       "    <tr>\n",
       "      <th>3</th>\n",
       "      <td>standing</td>\n",
       "      <td>0.03</td>\n",
       "      <td>HuGaDB_v2_various_07_19.csv</td>\n",
       "      <td>7</td>\n",
       "      <td>52</td>\n",
       "      <td>161</td>\n",
       "      <td>22</td>\n",
       "      <td>F</td>\n",
       "      <td>-0.110640</td>\n",
       "      <td>-1.576637</td>\n",
       "      <td>...</td>\n",
       "      <td>0.021050</td>\n",
       "      <td>-0.230475</td>\n",
       "      <td>0.284215</td>\n",
       "      <td>-2.376308</td>\n",
       "      <td>0.027212</td>\n",
       "      <td>-0.352657</td>\n",
       "      <td>-0.780340</td>\n",
       "      <td>-0.996903</td>\n",
       "      <td>-0.124306</td>\n",
       "      <td>0.247893</td>\n",
       "    </tr>\n",
       "    <tr>\n",
       "      <th>4</th>\n",
       "      <td>standing</td>\n",
       "      <td>0.04</td>\n",
       "      <td>HuGaDB_v2_various_07_19.csv</td>\n",
       "      <td>7</td>\n",
       "      <td>52</td>\n",
       "      <td>161</td>\n",
       "      <td>22</td>\n",
       "      <td>F</td>\n",
       "      <td>-0.368655</td>\n",
       "      <td>-1.225337</td>\n",
       "      <td>...</td>\n",
       "      <td>-0.031694</td>\n",
       "      <td>-0.129100</td>\n",
       "      <td>0.517537</td>\n",
       "      <td>-2.648389</td>\n",
       "      <td>-0.005333</td>\n",
       "      <td>-0.155165</td>\n",
       "      <td>-0.357909</td>\n",
       "      <td>-2.143814</td>\n",
       "      <td>-0.026735</td>\n",
       "      <td>-0.012083</td>\n",
       "    </tr>\n",
       "    <tr>\n",
       "      <th>...</th>\n",
       "      <td>...</td>\n",
       "      <td>...</td>\n",
       "      <td>...</td>\n",
       "      <td>...</td>\n",
       "      <td>...</td>\n",
       "      <td>...</td>\n",
       "      <td>...</td>\n",
       "      <td>...</td>\n",
       "      <td>...</td>\n",
       "      <td>...</td>\n",
       "      <td>...</td>\n",
       "      <td>...</td>\n",
       "      <td>...</td>\n",
       "      <td>...</td>\n",
       "      <td>...</td>\n",
       "      <td>...</td>\n",
       "      <td>...</td>\n",
       "      <td>...</td>\n",
       "      <td>...</td>\n",
       "      <td>...</td>\n",
       "      <td>...</td>\n",
       "    </tr>\n",
       "    <tr>\n",
       "      <th>5743</th>\n",
       "      <td>standing</td>\n",
       "      <td>57.43</td>\n",
       "      <td>HuGaDB_v2_various_07_19.csv</td>\n",
       "      <td>7</td>\n",
       "      <td>52</td>\n",
       "      <td>161</td>\n",
       "      <td>22</td>\n",
       "      <td>F</td>\n",
       "      <td>-0.066968</td>\n",
       "      <td>-0.525076</td>\n",
       "      <td>...</td>\n",
       "      <td>-0.047467</td>\n",
       "      <td>0.197346</td>\n",
       "      <td>0.044424</td>\n",
       "      <td>0.073489</td>\n",
       "      <td>0.086621</td>\n",
       "      <td>-0.025618</td>\n",
       "      <td>0.022478</td>\n",
       "      <td>0.462998</td>\n",
       "      <td>0.479823</td>\n",
       "      <td>0.042735</td>\n",
       "    </tr>\n",
       "    <tr>\n",
       "      <th>5744</th>\n",
       "      <td>standing</td>\n",
       "      <td>57.44</td>\n",
       "      <td>HuGaDB_v2_various_07_19.csv</td>\n",
       "      <td>7</td>\n",
       "      <td>52</td>\n",
       "      <td>161</td>\n",
       "      <td>22</td>\n",
       "      <td>F</td>\n",
       "      <td>-0.106732</td>\n",
       "      <td>-0.122698</td>\n",
       "      <td>...</td>\n",
       "      <td>-0.061463</td>\n",
       "      <td>0.147343</td>\n",
       "      <td>0.112127</td>\n",
       "      <td>1.778283</td>\n",
       "      <td>0.043601</td>\n",
       "      <td>0.099898</td>\n",
       "      <td>0.396085</td>\n",
       "      <td>1.190408</td>\n",
       "      <td>0.410198</td>\n",
       "      <td>-0.312436</td>\n",
       "    </tr>\n",
       "    <tr>\n",
       "      <th>5745</th>\n",
       "      <td>standing</td>\n",
       "      <td>57.45</td>\n",
       "      <td>HuGaDB_v2_various_07_19.csv</td>\n",
       "      <td>7</td>\n",
       "      <td>52</td>\n",
       "      <td>161</td>\n",
       "      <td>22</td>\n",
       "      <td>F</td>\n",
       "      <td>-0.192714</td>\n",
       "      <td>0.537579</td>\n",
       "      <td>...</td>\n",
       "      <td>-0.024124</td>\n",
       "      <td>0.083651</td>\n",
       "      <td>0.366407</td>\n",
       "      <td>1.049161</td>\n",
       "      <td>0.042132</td>\n",
       "      <td>-0.229488</td>\n",
       "      <td>0.053876</td>\n",
       "      <td>1.482234</td>\n",
       "      <td>0.078446</td>\n",
       "      <td>-0.340706</td>\n",
       "    </tr>\n",
       "    <tr>\n",
       "      <th>5746</th>\n",
       "      <td>standing</td>\n",
       "      <td>57.46</td>\n",
       "      <td>HuGaDB_v2_various_07_19.csv</td>\n",
       "      <td>7</td>\n",
       "      <td>52</td>\n",
       "      <td>161</td>\n",
       "      <td>22</td>\n",
       "      <td>F</td>\n",
       "      <td>-0.105723</td>\n",
       "      <td>0.123889</td>\n",
       "      <td>...</td>\n",
       "      <td>0.035503</td>\n",
       "      <td>0.149961</td>\n",
       "      <td>0.012473</td>\n",
       "      <td>0.502044</td>\n",
       "      <td>0.067471</td>\n",
       "      <td>-0.338358</td>\n",
       "      <td>-0.216250</td>\n",
       "      <td>0.980749</td>\n",
       "      <td>-0.271076</td>\n",
       "      <td>-0.296139</td>\n",
       "    </tr>\n",
       "    <tr>\n",
       "      <th>5747</th>\n",
       "      <td>standing</td>\n",
       "      <td>57.47</td>\n",
       "      <td>HuGaDB_v2_various_07_19.csv</td>\n",
       "      <td>7</td>\n",
       "      <td>52</td>\n",
       "      <td>161</td>\n",
       "      <td>22</td>\n",
       "      <td>F</td>\n",
       "      <td>0.160995</td>\n",
       "      <td>0.469568</td>\n",
       "      <td>...</td>\n",
       "      <td>0.269310</td>\n",
       "      <td>0.096916</td>\n",
       "      <td>-0.187335</td>\n",
       "      <td>0.780072</td>\n",
       "      <td>0.022950</td>\n",
       "      <td>-0.274632</td>\n",
       "      <td>-0.357663</td>\n",
       "      <td>0.014664</td>\n",
       "      <td>-0.287285</td>\n",
       "      <td>-0.287447</td>\n",
       "    </tr>\n",
       "  </tbody>\n",
       "</table>\n",
       "<p>5748 rows × 24 columns</p>\n",
       "</div>"
      ],
      "text/plain": [
       "      activity   time                     filename  person  weight  height  \\\n",
       "0     standing   0.00  HuGaDB_v2_various_07_19.csv       7      52     161   \n",
       "1     standing   0.01  HuGaDB_v2_various_07_19.csv       7      52     161   \n",
       "2     standing   0.02  HuGaDB_v2_various_07_19.csv       7      52     161   \n",
       "3     standing   0.03  HuGaDB_v2_various_07_19.csv       7      52     161   \n",
       "4     standing   0.04  HuGaDB_v2_various_07_19.csv       7      52     161   \n",
       "...        ...    ...                          ...     ...     ...     ...   \n",
       "5743  standing  57.43  HuGaDB_v2_various_07_19.csv       7      52     161   \n",
       "5744  standing  57.44  HuGaDB_v2_various_07_19.csv       7      52     161   \n",
       "5745  standing  57.45  HuGaDB_v2_various_07_19.csv       7      52     161   \n",
       "5746  standing  57.46  HuGaDB_v2_various_07_19.csv       7      52     161   \n",
       "5747  standing  57.47  HuGaDB_v2_various_07_19.csv       7      52     161   \n",
       "\n",
       "      age sex  accelerometer_right_shin_x  accelerometer_right_shin_y  ...  \\\n",
       "0      22   F                   -0.107673                   -0.884439  ...   \n",
       "1      22   F                   -0.066968                   -0.719065  ...   \n",
       "2      22   F                   -0.066968                   -1.700522  ...   \n",
       "3      22   F                   -0.110640                   -1.576637  ...   \n",
       "4      22   F                   -0.368655                   -1.225337  ...   \n",
       "...   ...  ..                         ...                         ...  ...   \n",
       "5743   22   F                   -0.066968                   -0.525076  ...   \n",
       "5744   22   F                   -0.106732                   -0.122698  ...   \n",
       "5745   22   F                   -0.192714                    0.537579  ...   \n",
       "5746   22   F                   -0.105723                    0.123889  ...   \n",
       "5747   22   F                    0.160995                    0.469568  ...   \n",
       "\n",
       "      gyroscope_right_thigh_x  gyroscope_right_thigh_y  \\\n",
       "0                    0.070794                 0.267006   \n",
       "1                    0.156643                -0.014225   \n",
       "2                    0.127307                -0.253029   \n",
       "3                    0.021050                -0.230475   \n",
       "4                   -0.031694                -0.129100   \n",
       "...                       ...                      ...   \n",
       "5743                -0.047467                 0.197346   \n",
       "5744                -0.061463                 0.147343   \n",
       "5745                -0.024124                 0.083651   \n",
       "5746                 0.035503                 0.149961   \n",
       "5747                 0.269310                 0.096916   \n",
       "\n",
       "      accelerometer_left_shin_x  accelerometer_left_shin_y  \\\n",
       "0                     -0.006241                  -3.379800   \n",
       "1                      0.604659                  -3.214842   \n",
       "2                      0.039111                  -3.517576   \n",
       "3                      0.284215                  -2.376308   \n",
       "4                      0.517537                  -2.648389   \n",
       "...                         ...                        ...   \n",
       "5743                   0.044424                   0.073489   \n",
       "5744                   0.112127                   1.778283   \n",
       "5745                   0.366407                   1.049161   \n",
       "5746                   0.012473                   0.502044   \n",
       "5747                  -0.187335                   0.780072   \n",
       "\n",
       "      gyroscope_left_shin_x  gyroscope_left_shin_y  \\\n",
       "0                 -0.028462               0.160814   \n",
       "1                 -0.034063              -0.300038   \n",
       "2                  0.005876              -0.615921   \n",
       "3                  0.027212              -0.352657   \n",
       "4                 -0.005333              -0.155165   \n",
       "...                     ...                    ...   \n",
       "5743               0.086621              -0.025618   \n",
       "5744               0.043601               0.099898   \n",
       "5745               0.042132              -0.229488   \n",
       "5746               0.067471              -0.338358   \n",
       "5747               0.022950              -0.274632   \n",
       "\n",
       "      accelerometer_left_thigh_x  accelerometer_left_thigh_y  \\\n",
       "0                       0.014758                   -2.483240   \n",
       "1                      -0.809060                   -1.709449   \n",
       "2                      -1.331798                   -0.844585   \n",
       "3                      -0.780340                   -0.996903   \n",
       "4                      -0.357909                   -2.143814   \n",
       "...                          ...                         ...   \n",
       "5743                    0.022478                    0.462998   \n",
       "5744                    0.396085                    1.190408   \n",
       "5745                    0.053876                    1.482234   \n",
       "5746                   -0.216250                    0.980749   \n",
       "5747                   -0.357663                    0.014664   \n",
       "\n",
       "      gyroscope_left_thigh_x  gyroscope_left_thigh_y  \n",
       "0                  -0.021056               -0.391887  \n",
       "1                  -0.151850                0.204215  \n",
       "2                  -0.221674                0.764353  \n",
       "3                  -0.124306                0.247893  \n",
       "4                  -0.026735               -0.012083  \n",
       "...                      ...                     ...  \n",
       "5743                0.479823                0.042735  \n",
       "5744                0.410198               -0.312436  \n",
       "5745                0.078446               -0.340706  \n",
       "5746               -0.271076               -0.296139  \n",
       "5747               -0.287285               -0.287447  \n",
       "\n",
       "[5748 rows x 24 columns]"
      ]
     },
     "execution_count": 14,
     "metadata": {},
     "output_type": "execute_result"
    }
   ],
   "source": [
    "denoised_dfs[10]"
   ]
  },
  {
   "cell_type": "markdown",
   "id": "455a1c0d",
   "metadata": {
    "papermill": {
     "duration": 0.019262,
     "end_time": "2023-03-20T17:36:21.443401",
     "exception": false,
     "start_time": "2023-03-20T17:36:21.424139",
     "status": "completed"
    },
    "tags": []
   },
   "source": [
    "# Separate the dataframes into left and right legs dataframes"
   ]
  },
  {
   "cell_type": "code",
   "execution_count": 15,
   "id": "7b1c2c6c",
   "metadata": {
    "execution": {
     "iopub.execute_input": "2023-03-20T17:36:21.483473Z",
     "iopub.status.busy": "2023-03-20T17:36:21.482665Z",
     "iopub.status.idle": "2023-03-20T17:36:22.899231Z",
     "shell.execute_reply": "2023-03-20T17:36:22.897999Z"
    },
    "papermill": {
     "duration": 1.439174,
     "end_time": "2023-03-20T17:36:22.901727",
     "exception": false,
     "start_time": "2023-03-20T17:36:21.462553",
     "status": "completed"
    },
    "tags": []
   },
   "outputs": [
    {
     "name": "stderr",
     "output_type": "stream",
     "text": [
      "100%|██████████| 364/364 [00:00<00:00, 544.93it/s]\n",
      "100%|██████████| 364/364 [00:00<00:00, 497.93it/s]\n"
     ]
    }
   ],
   "source": [
    "left_dfs = []\n",
    "right_dfs = []\n",
    "denoised_left_dfs = []\n",
    "denoised_right_dfs = []\n",
    "\n",
    "right_cols = ['time','person','weight', 'height', 'age', 'sex','accelerometer_right_shin_x', 'accelerometer_right_shin_y', 'gyroscope_right_shin_x', 'gyroscope_right_shin_y', 'accelerometer_right_thigh_x', 'accelerometer_right_thigh_y', 'gyroscope_right_thigh_x', 'gyroscope_right_thigh_y','activity','filename']\n",
    "left_cols = ['time','person','weight', 'height', 'age', 'sex','accelerometer_left_shin_x', 'accelerometer_left_shin_y', 'gyroscope_left_shin_x', 'gyroscope_left_shin_y', 'accelerometer_left_thigh_x', 'accelerometer_left_thigh_y', 'gyroscope_left_thigh_x', 'gyroscope_left_thigh_y', 'activity','filename']\n",
    "\n",
    "\n",
    "for df in tqdm(dfs):\n",
    "    right_df = df[right_cols]\n",
    "    left_df = df[left_cols]\n",
    "    \n",
    "    right_dfs.append(right_df)\n",
    "    left_dfs.append(left_df)\n",
    "\n",
    "for df in tqdm(denoised_dfs):\n",
    "    denoised_right_df = df[right_cols]\n",
    "    denoised_left_df = df[left_cols]\n",
    "    \n",
    "    denoised_left_dfs.append(denoised_left_df)\n",
    "    denoised_right_dfs.append(denoised_right_df)"
   ]
  },
  {
   "cell_type": "markdown",
   "id": "0441bc0a",
   "metadata": {
    "papermill": {
     "duration": 0.020321,
     "end_time": "2023-03-20T17:36:22.943205",
     "exception": false,
     "start_time": "2023-03-20T17:36:22.922884",
     "status": "completed"
    },
    "tags": []
   },
   "source": [
    "# Calculate knee angle"
   ]
  },
  {
   "cell_type": "code",
   "execution_count": 16,
   "id": "61adae52",
   "metadata": {
    "execution": {
     "iopub.execute_input": "2023-03-20T17:36:22.984762Z",
     "iopub.status.busy": "2023-03-20T17:36:22.984422Z",
     "iopub.status.idle": "2023-03-20T17:42:21.712160Z",
     "shell.execute_reply": "2023-03-20T17:42:21.710761Z"
    },
    "papermill": {
     "duration": 358.75148,
     "end_time": "2023-03-20T17:42:21.714672",
     "exception": false,
     "start_time": "2023-03-20T17:36:22.963192",
     "status": "completed"
    },
    "tags": []
   },
   "outputs": [
    {
     "name": "stderr",
     "output_type": "stream",
     "text": [
      "100%|██████████| 364/364 [05:58<00:00,  1.01it/s]\n"
     ]
    }
   ],
   "source": [
    "# add the knee_angle column to each data frame in left_dfs\n",
    "for i, df in tqdm(enumerate(left_dfs), total=len(left_dfs)):\n",
    "    df_with_knee_angle = calculate_left_knee_angle(df)\n",
    "    left_dfs[i] = df_with_knee_angle"
   ]
  },
  {
   "cell_type": "code",
   "execution_count": 17,
   "id": "4feccd60",
   "metadata": {
    "execution": {
     "iopub.execute_input": "2023-03-20T17:42:21.811022Z",
     "iopub.status.busy": "2023-03-20T17:42:21.810619Z",
     "iopub.status.idle": "2023-03-20T17:48:25.635653Z",
     "shell.execute_reply": "2023-03-20T17:48:25.634464Z"
    },
    "papermill": {
     "duration": 363.871097,
     "end_time": "2023-03-20T17:48:25.638286",
     "exception": false,
     "start_time": "2023-03-20T17:42:21.767189",
     "status": "completed"
    },
    "tags": []
   },
   "outputs": [
    {
     "name": "stderr",
     "output_type": "stream",
     "text": [
      "100%|██████████| 364/364 [06:03<00:00,  1.00it/s]\n"
     ]
    }
   ],
   "source": [
    "# add the knee_angle column to each data frame in right_dfs\n",
    "for i, df in tqdm(enumerate(right_dfs), total=len(right_dfs)):\n",
    "    df_with_knee_angle = calculate_right_knee_angle(df)\n",
    "    right_dfs[i] = df_with_knee_angle"
   ]
  },
  {
   "cell_type": "code",
   "execution_count": 18,
   "id": "1fc57d83",
   "metadata": {
    "execution": {
     "iopub.execute_input": "2023-03-20T17:48:25.761619Z",
     "iopub.status.busy": "2023-03-20T17:48:25.761216Z",
     "iopub.status.idle": "2023-03-20T17:54:29.981378Z",
     "shell.execute_reply": "2023-03-20T17:54:29.980008Z"
    },
    "papermill": {
     "duration": 364.285136,
     "end_time": "2023-03-20T17:54:29.984159",
     "exception": false,
     "start_time": "2023-03-20T17:48:25.699023",
     "status": "completed"
    },
    "tags": []
   },
   "outputs": [
    {
     "name": "stderr",
     "output_type": "stream",
     "text": [
      "100%|██████████| 364/364 [06:04<00:00,  1.00s/it]\n"
     ]
    }
   ],
   "source": [
    "# add the knee_angle column to each data frame in left_dfs\n",
    "for i, df in tqdm(enumerate(denoised_left_dfs), total=len(denoised_left_dfs)):\n",
    "    df_with_knee_angle = calculate_left_knee_angle(df)\n",
    "    denoised_left_dfs[i] = df_with_knee_angle"
   ]
  },
  {
   "cell_type": "code",
   "execution_count": 19,
   "id": "693db868",
   "metadata": {
    "execution": {
     "iopub.execute_input": "2023-03-20T17:54:30.149795Z",
     "iopub.status.busy": "2023-03-20T17:54:30.148755Z",
     "iopub.status.idle": "2023-03-20T18:00:33.000166Z",
     "shell.execute_reply": "2023-03-20T18:00:32.998196Z"
    },
    "papermill": {
     "duration": 362.936711,
     "end_time": "2023-03-20T18:00:33.002588",
     "exception": false,
     "start_time": "2023-03-20T17:54:30.065877",
     "status": "completed"
    },
    "tags": []
   },
   "outputs": [
    {
     "name": "stderr",
     "output_type": "stream",
     "text": [
      "100%|██████████| 364/364 [06:02<00:00,  1.00it/s]\n"
     ]
    }
   ],
   "source": [
    "# add the knee_angle column to each data frame in left_dfs\n",
    "for i, df in tqdm(enumerate(denoised_right_dfs), total=len(denoised_right_dfs)):\n",
    "    df_with_knee_angle = calculate_right_knee_angle(df)\n",
    "    denoised_right_dfs[i] = df_with_knee_angle"
   ]
  },
  {
   "cell_type": "markdown",
   "id": "9af74afd",
   "metadata": {
    "papermill": {
     "duration": 0.100462,
     "end_time": "2023-03-20T18:00:33.205607",
     "exception": false,
     "start_time": "2023-03-20T18:00:33.105145",
     "status": "completed"
    },
    "tags": []
   },
   "source": [
    "# Comparative visualization"
   ]
  },
  {
   "cell_type": "code",
   "execution_count": 20,
   "id": "90189d1b",
   "metadata": {
    "execution": {
     "iopub.execute_input": "2023-03-20T18:00:33.414901Z",
     "iopub.status.busy": "2023-03-20T18:00:33.413820Z",
     "iopub.status.idle": "2023-03-20T18:00:33.692383Z",
     "shell.execute_reply": "2023-03-20T18:00:33.691258Z"
    },
    "papermill": {
     "duration": 0.38702,
     "end_time": "2023-03-20T18:00:33.695085",
     "exception": false,
     "start_time": "2023-03-20T18:00:33.308065",
     "status": "completed"
    },
    "tags": []
   },
   "outputs": [
    {
     "data": {
      "text/html": [
       "        <script type=\"text/javascript\">\n",
       "        window.PlotlyConfig = {MathJaxConfig: 'local'};\n",
       "        if (window.MathJax && window.MathJax.Hub && window.MathJax.Hub.Config) {window.MathJax.Hub.Config({SVG: {font: \"STIX-Web\"}});}\n",
       "        if (typeof require !== 'undefined') {\n",
       "        require.undef(\"plotly\");\n",
       "        requirejs.config({\n",
       "            paths: {\n",
       "                'plotly': ['https://cdn.plot.ly/plotly-2.18.0.min']\n",
       "            }\n",
       "        });\n",
       "        require(['plotly'], function(Plotly) {\n",
       "            window._Plotly = Plotly;\n",
       "        });\n",
       "        }\n",
       "        </script>\n",
       "        "
      ]
     },
     "metadata": {},
     "output_type": "display_data"
    },
    {
     "data": {
      "text/html": [
       "<div>                            <div id=\"8cff94a5-ae7c-4b8e-850a-44333b71ef08\" class=\"plotly-graph-div\" style=\"height:525px; width:100%;\"></div>            <script type=\"text/javascript\">                require([\"plotly\"], function(Plotly) {                    window.PLOTLYENV=window.PLOTLYENV || {};                                    if (document.getElementById(\"8cff94a5-ae7c-4b8e-850a-44333b71ef08\")) {                    Plotly.newPlot(                        \"8cff94a5-ae7c-4b8e-850a-44333b71ef08\",                        [{\"name\":\"right Knee Angle\",\"x\":[5.87,5.88,5.89,5.9,5.91,5.92,5.93,5.94,5.95,5.96,5.97,5.98,5.99,6.0,6.01,6.0200000000000005,6.03,6.04,6.05,6.0600000000000005,6.07,6.08,6.09,6.1000000000000005,6.11,6.12,6.13,6.140000000000001,6.15,6.16,6.17,6.18,6.19,6.2,6.21,6.22,6.23,6.24,6.25,6.26,6.2700000000000005,6.28,6.29,6.3,6.3100000000000005,6.32,6.33,6.34,6.3500000000000005,6.36,6.37,6.38,6.390000000000001,6.4,6.41,6.42,6.43,6.44,6.45,6.46,6.47,6.48,6.49,6.5,6.51,6.5200000000000005,6.53,6.54,6.55,6.5600000000000005,6.57,6.58,6.59,6.6000000000000005,6.61,6.62,6.63,6.640000000000001,6.65,6.66,6.67,6.68,6.69,6.7,6.71,6.72,6.73,6.74,6.75,6.76,6.7700000000000005,6.78,6.79,6.8,6.8100000000000005,6.82,6.83,6.84,6.8500000000000005,6.86,6.87,6.88,6.890000000000001,6.9,6.91,6.92,6.93,6.94,6.95,6.96,6.97,6.98,6.99,7.0,7.01,7.0200000000000005,7.03,7.04,7.05,7.0600000000000005,7.07,7.08,7.09,7.1000000000000005,7.11,7.12,7.13,7.140000000000001,7.15,7.16,7.17,7.18,7.19,7.2,7.21,7.22,7.23,7.24,7.25,7.26,7.2700000000000005,7.28,7.29,7.3,7.3100000000000005,7.32,7.33,7.34,7.3500000000000005,7.36,7.37,7.38,7.390000000000001,7.4,7.41,7.42,7.43,7.44,7.45,7.46,7.47,7.48,7.49,7.5,7.51,7.5200000000000005,7.53,7.54,7.55,7.5600000000000005,7.57,7.58,7.59,7.6000000000000005,7.61,7.62,7.63,7.640000000000001,7.65,7.66,7.67,7.68,7.69,7.7,7.71,7.72,7.73,7.74,7.75,7.76,7.7700000000000005,7.78,7.79,7.8,7.8100000000000005,7.82,7.83,7.84,7.8500000000000005,7.86],\"y\":[-85.64644102119937,-122.99640792149945,160.58887323168824,-52.39869899221581,25.130331599826867,-93.74486093488092,22.148256702891924,77.50436137930868,-108.08423494816343,167.31031407080377,-150.54953886847449,178.42596011017852,107.31402160500033,111.49723590832207,-32.32837509861078,-153.46822162958424,-65.82968684375334,-73.5442473154172,-34.47804002634304,-145.5239116420473,-123.63798046804422,-95.86796670378125,-73.2173558547293,-106.63095370672143,-130.36152892063225,-117.59215631183,-70.9533757023642,-25.467253635404884,3.3608518616941687,10.685743520422644,30.536311616001047,-145.6439446503197,167.68498152072561,171.07081807780366,179.78680738571492,-179.49789446395042,171.82451286255164,-167.43976290315445,-151.59917408237632,-151.95827899306948,-127.09708728438765,-96.23332524137992,-47.692686714014506,-41.24788026400164,-32.6004605778764,-33.44264141229869,-31.88313549388101,-48.28069122283318,-71.89864728813353,-104.99767559503987,-148.56487696379233,-163.73471422697762,-149.22959182121343,5.545476074388576,172.41566023773782,60.43242820859968,-69.59289070571911,-86.79953762337072,-94.14752210276677,-99.52225500992522,-63.80222443026011,-76.8527576247305,-124.24551090572446,-85.77559678291615,-49.9697407281103,-151.5398240012289,-80.74519510084784,-89.82584923079341,-91.27560615330047,-137.49941959652074,-69.31441028004045,-77.71333816180866,-85.56946955319519,-88.77066551352212,-92.99034497516539,-99.79984866886764,-105.64224645720874,-90.20684307077732,-88.44343252866014,-106.0888861581942,-111.77748640652571,-6.260851411244991,-3.422008795304186,16.98772894680585,142.2917349264219,-166.19267043392142,-170.21623701553617,167.6917166540569,168.05508889010684,171.08507304285214,-160.35773191103496,-166.5502488035682,-152.90150763291,-146.05057527504363,-130.34784524141386,6.160222727661737,-17.27464094963225,-25.871306481314353,-30.518367597149584,-40.09970645237108,-54.451352309727135,-59.54643707408828,-69.63605329471348,-102.15743335070513,-130.22015322452265,-128.37747973268748,-87.4619548548602,4.718821011853311,-116.80857891252748,-113.11509945505605,101.28421623718644,-82.55258314980485,-84.24654219754503,-106.95836700812914,-109.5533111276918,-91.94017202636347,-86.13453883014826,-3.576334374997351,-76.90623421855909,-18.022756081519688,-99.5002413153373,-86.42366562500266,-83.38653951768524,173.82044420057423,-89.15570226046259,-116.56505117707799,-107.6011813677856,-93.12780612128616,-100.2568198416964,-88.85880074441286,-78.37738901298239,-91.6656437538141,-87.09061002412162,1.1852608186223967,1.9533962693861129,-8.523131262290038,48.54673855095393,-178.8622301772545,-176.59101354736526,168.31534036346744,161.69471201070806,163.86005211500998,-161.38291512515,-150.70476282702566,-165.29585784499483,-154.91076543416307,-145.6967905208186,-127.60441868009883,-41.618272675723645,-24.09346464957098,-29.413491731511904,-37.87633742515728,-32.30702145213146,-49.88087474124338,-62.16889561715846,-70.0026520689561,-119.08380548535679,-138.71528910542878,-108.98186361561592,-0.5640091435630168,-49.74415995753848,-111.59132590295282,9.951277236695379,130.67493956526152,-70.39363567804858,-111.70353500090205,-114.68857100039051,-115.86871542160483,-92.76166316717162,-111.59289361936128,-98.86667604414427,-91.2188752351313,-79.8244891569568,-115.60218755144177,-102.83356961957259,-77.7352262721076,-82.9966822351016,-87.36057386209275,-83.3274581894485,-116.06099573975995,-110.90460123570222,-84.84791829779377,-123.31279611610253,-109.30446387855054,-110.28101339507019,-110.79716227916386,-69.13237959458083,-42.66595310108614,-41.45828356783684,13.88787063946709,68.52013745360614,-156.25557862377602,-157.6331155906148,-164.14153045313157,-172.79343469906598,-176.63907997861008,178.13489951300082,172.82380387059425,-174.98782024777088,-179.6842570607315],\"type\":\"scatter\"},{\"name\":\"denoised right Knee Angle\",\"x\":[5.87,5.88,5.89,5.9,5.91,5.92,5.93,5.94,5.95,5.96,5.97,5.98,5.99,6.0,6.01,6.0200000000000005,6.03,6.04,6.05,6.0600000000000005,6.07,6.08,6.09,6.1000000000000005,6.11,6.12,6.13,6.140000000000001,6.15,6.16,6.17,6.18,6.19,6.2,6.21,6.22,6.23,6.24,6.25,6.26,6.2700000000000005,6.28,6.29,6.3,6.3100000000000005,6.32,6.33,6.34,6.3500000000000005,6.36,6.37,6.38,6.390000000000001,6.4,6.41,6.42,6.43,6.44,6.45,6.46,6.47,6.48,6.49,6.5,6.51,6.5200000000000005,6.53,6.54,6.55,6.5600000000000005,6.57,6.58,6.59,6.6000000000000005,6.61,6.62,6.63,6.640000000000001,6.65,6.66,6.67,6.68,6.69,6.7,6.71,6.72,6.73,6.74,6.75,6.76,6.7700000000000005,6.78,6.79,6.8,6.8100000000000005,6.82,6.83,6.84,6.8500000000000005,6.86,6.87,6.88,6.890000000000001,6.9,6.91,6.92,6.93,6.94,6.95,6.96,6.97,6.98,6.99,7.0,7.01,7.0200000000000005,7.03,7.04,7.05,7.0600000000000005,7.07,7.08,7.09,7.1000000000000005,7.11,7.12,7.13,7.140000000000001,7.15,7.16,7.17,7.18,7.19,7.2,7.21,7.22,7.23,7.24,7.25,7.26,7.2700000000000005,7.28,7.29,7.3,7.3100000000000005,7.32,7.33,7.34,7.3500000000000005,7.36,7.37,7.38,7.390000000000001,7.4,7.41,7.42,7.43,7.44,7.45,7.46,7.47,7.48,7.49,7.5,7.51,7.5200000000000005,7.53,7.54,7.55,7.5600000000000005,7.57,7.58,7.59,7.6000000000000005,7.61,7.62,7.63,7.640000000000001,7.65,7.66,7.67,7.68,7.69,7.7,7.71,7.72,7.73,7.74,7.75,7.76,7.7700000000000005,7.78,7.79,7.8,7.8100000000000005,7.82,7.83,7.84,7.8500000000000005,7.86],\"y\":[-74.15609567459471,128.83784121810376,135.2347067908878,-35.45989791762427,45.84189847828342,-86.47551806677775,30.637207686525038,83.70690141113609,-108.54228866490199,122.30852340456504,-171.5561641485479,154.92449249383827,104.2806765198701,80.90966628392334,63.55052194338355,96.78323077099087,11.343890350454203,-1.5304900097847185,25.035373426444508,54.99599516376075,65.06741858179753,-102.56382667301133,56.93520506621742,77.83991348158096,133.64187115183768,119.22857032618924,81.72984885862984,38.899327017333206,20.068681436935364,41.72499779409797,43.66658395338448,161.65782030637033,150.15904862064178,156.03724159558524,163.19811920726687,169.29221047121166,160.98892274821014,178.00359874767142,-167.97885348995825,-169.99699446102562,-150.75960331922758,-41.83136354525182,-20.504739542747572,-32.726905002997995,-24.02629206543438,-22.74708879774385,-17.873330778354628,-34.068676727546624,-63.93099888364115,-88.40909352513397,-161.58765964450475,148.2564404126198,87.36888011462533,15.679079237594742,160.88202355586284,69.58353434530116,56.719516560428,25.086344836010962,-110.08953567855141,102.25916833851858,73.79609454424285,33.10084955250591,96.22853584268236,42.14157170867745,58.7771163137403,69.38408056202961,36.15251232999923,0.8701250465724253,-2.1441607000186056,54.96544909717092,10.066918089709755,16.82476769716056,46.753854030808306,56.10913308432257,65.3221463450804,133.90955439527454,129.13563396650812,79.3163258673511,83.12688000277011,96.8503838655459,76.64223488848363,24.34395524678491,34.56654119814937,31.705668462643143,108.90646163182383,163.31722560456367,174.0915107777259,142.48339336959327,157.1369735736447,159.74397607057134,-175.9485972247673,-179.65172182055423,-171.56856601598406,-169.32358219350598,39.822825558993145,18.10239390532289,-9.92337567354078,-18.56418519805407,-21.29447109839411,-26.762101474319163,-39.960178372467915,-45.307140651736475,-56.41107646093368,-96.42067568361844,-147.8751397321238,-159.5061452817263,-43.25523740491732,27.13710260930045,115.45999080963149,-124.3145453402279,80.94847948823558,-12.230653913373382,85.28999562637532,117.56698711179052,93.59611512385793,79.33619385500262,83.44134121662826,64.48930910923502,9.196146050976992,55.70792920848277,65.21908606409968,15.682918409489764,41.01631451719249,121.31934810393837,32.58898992605091,66.67629328139375,90.49721456607512,98.76166148849562,54.18312931097889,57.64303661392986,66.01903470508589,79.67939796645202,45.97758434486809,33.561689660537034,22.056959648698193,26.513022345227764,52.66612347976151,138.0118476342162,164.58788175573005,148.55290083544818,148.2607813885326,157.26280693460066,-177.86030676572994,-166.63822017976466,-177.29225870077374,-170.48019915573082,-165.98066381780689,-134.889900724419,-7.6290253978550595,-15.162196721437526,-24.642216857840303,-26.722314583056214,-19.61452150589859,-34.32149051484888,-49.26419927906134,-59.38082740896265,-129.39908542536793,-161.15615781090727,-79.33537865043773,43.48485388516807,-32.58641550307057,83.75566383192204,31.21338068263237,128.5937892939564,27.181963507895702,109.1180725537632,85.77369011935285,103.86418433240907,85.59789882719605,94.92398027250613,83.17258763286206,47.219670295051394,51.15591164660114,48.76212237348973,30.663258390013834,-13.052457235301432,-33.09087698431768,10.459644735770594,18.794306537806293,-21.968295880472333,-83.6634597949212,38.27471285104659,101.85437734837825,100.21595138099906,121.67164011372934,160.98693857481592,56.350212372162794,0.9857206864198004,-4.868637733629311,27.74046063704514,75.54496809776388,160.74351564918655,174.65373212855943,-173.2336493146323,-179.22256421602606,167.932680714626,166.43504076146317,167.3451925461889,174.8268908488635,173.04005804086353],\"type\":\"scatter\"}],                        {\"template\":{\"data\":{\"histogram2dcontour\":[{\"type\":\"histogram2dcontour\",\"colorbar\":{\"outlinewidth\":0,\"ticks\":\"\"},\"colorscale\":[[0.0,\"#0d0887\"],[0.1111111111111111,\"#46039f\"],[0.2222222222222222,\"#7201a8\"],[0.3333333333333333,\"#9c179e\"],[0.4444444444444444,\"#bd3786\"],[0.5555555555555556,\"#d8576b\"],[0.6666666666666666,\"#ed7953\"],[0.7777777777777778,\"#fb9f3a\"],[0.8888888888888888,\"#fdca26\"],[1.0,\"#f0f921\"]]}],\"choropleth\":[{\"type\":\"choropleth\",\"colorbar\":{\"outlinewidth\":0,\"ticks\":\"\"}}],\"histogram2d\":[{\"type\":\"histogram2d\",\"colorbar\":{\"outlinewidth\":0,\"ticks\":\"\"},\"colorscale\":[[0.0,\"#0d0887\"],[0.1111111111111111,\"#46039f\"],[0.2222222222222222,\"#7201a8\"],[0.3333333333333333,\"#9c179e\"],[0.4444444444444444,\"#bd3786\"],[0.5555555555555556,\"#d8576b\"],[0.6666666666666666,\"#ed7953\"],[0.7777777777777778,\"#fb9f3a\"],[0.8888888888888888,\"#fdca26\"],[1.0,\"#f0f921\"]]}],\"heatmap\":[{\"type\":\"heatmap\",\"colorbar\":{\"outlinewidth\":0,\"ticks\":\"\"},\"colorscale\":[[0.0,\"#0d0887\"],[0.1111111111111111,\"#46039f\"],[0.2222222222222222,\"#7201a8\"],[0.3333333333333333,\"#9c179e\"],[0.4444444444444444,\"#bd3786\"],[0.5555555555555556,\"#d8576b\"],[0.6666666666666666,\"#ed7953\"],[0.7777777777777778,\"#fb9f3a\"],[0.8888888888888888,\"#fdca26\"],[1.0,\"#f0f921\"]]}],\"heatmapgl\":[{\"type\":\"heatmapgl\",\"colorbar\":{\"outlinewidth\":0,\"ticks\":\"\"},\"colorscale\":[[0.0,\"#0d0887\"],[0.1111111111111111,\"#46039f\"],[0.2222222222222222,\"#7201a8\"],[0.3333333333333333,\"#9c179e\"],[0.4444444444444444,\"#bd3786\"],[0.5555555555555556,\"#d8576b\"],[0.6666666666666666,\"#ed7953\"],[0.7777777777777778,\"#fb9f3a\"],[0.8888888888888888,\"#fdca26\"],[1.0,\"#f0f921\"]]}],\"contourcarpet\":[{\"type\":\"contourcarpet\",\"colorbar\":{\"outlinewidth\":0,\"ticks\":\"\"}}],\"contour\":[{\"type\":\"contour\",\"colorbar\":{\"outlinewidth\":0,\"ticks\":\"\"},\"colorscale\":[[0.0,\"#0d0887\"],[0.1111111111111111,\"#46039f\"],[0.2222222222222222,\"#7201a8\"],[0.3333333333333333,\"#9c179e\"],[0.4444444444444444,\"#bd3786\"],[0.5555555555555556,\"#d8576b\"],[0.6666666666666666,\"#ed7953\"],[0.7777777777777778,\"#fb9f3a\"],[0.8888888888888888,\"#fdca26\"],[1.0,\"#f0f921\"]]}],\"surface\":[{\"type\":\"surface\",\"colorbar\":{\"outlinewidth\":0,\"ticks\":\"\"},\"colorscale\":[[0.0,\"#0d0887\"],[0.1111111111111111,\"#46039f\"],[0.2222222222222222,\"#7201a8\"],[0.3333333333333333,\"#9c179e\"],[0.4444444444444444,\"#bd3786\"],[0.5555555555555556,\"#d8576b\"],[0.6666666666666666,\"#ed7953\"],[0.7777777777777778,\"#fb9f3a\"],[0.8888888888888888,\"#fdca26\"],[1.0,\"#f0f921\"]]}],\"mesh3d\":[{\"type\":\"mesh3d\",\"colorbar\":{\"outlinewidth\":0,\"ticks\":\"\"}}],\"scatter\":[{\"fillpattern\":{\"fillmode\":\"overlay\",\"size\":10,\"solidity\":0.2},\"type\":\"scatter\"}],\"parcoords\":[{\"type\":\"parcoords\",\"line\":{\"colorbar\":{\"outlinewidth\":0,\"ticks\":\"\"}}}],\"scatterpolargl\":[{\"type\":\"scatterpolargl\",\"marker\":{\"colorbar\":{\"outlinewidth\":0,\"ticks\":\"\"}}}],\"bar\":[{\"error_x\":{\"color\":\"#2a3f5f\"},\"error_y\":{\"color\":\"#2a3f5f\"},\"marker\":{\"line\":{\"color\":\"#E5ECF6\",\"width\":0.5},\"pattern\":{\"fillmode\":\"overlay\",\"size\":10,\"solidity\":0.2}},\"type\":\"bar\"}],\"scattergeo\":[{\"type\":\"scattergeo\",\"marker\":{\"colorbar\":{\"outlinewidth\":0,\"ticks\":\"\"}}}],\"scatterpolar\":[{\"type\":\"scatterpolar\",\"marker\":{\"colorbar\":{\"outlinewidth\":0,\"ticks\":\"\"}}}],\"histogram\":[{\"marker\":{\"pattern\":{\"fillmode\":\"overlay\",\"size\":10,\"solidity\":0.2}},\"type\":\"histogram\"}],\"scattergl\":[{\"type\":\"scattergl\",\"marker\":{\"colorbar\":{\"outlinewidth\":0,\"ticks\":\"\"}}}],\"scatter3d\":[{\"type\":\"scatter3d\",\"line\":{\"colorbar\":{\"outlinewidth\":0,\"ticks\":\"\"}},\"marker\":{\"colorbar\":{\"outlinewidth\":0,\"ticks\":\"\"}}}],\"scattermapbox\":[{\"type\":\"scattermapbox\",\"marker\":{\"colorbar\":{\"outlinewidth\":0,\"ticks\":\"\"}}}],\"scatterternary\":[{\"type\":\"scatterternary\",\"marker\":{\"colorbar\":{\"outlinewidth\":0,\"ticks\":\"\"}}}],\"scattercarpet\":[{\"type\":\"scattercarpet\",\"marker\":{\"colorbar\":{\"outlinewidth\":0,\"ticks\":\"\"}}}],\"carpet\":[{\"aaxis\":{\"endlinecolor\":\"#2a3f5f\",\"gridcolor\":\"white\",\"linecolor\":\"white\",\"minorgridcolor\":\"white\",\"startlinecolor\":\"#2a3f5f\"},\"baxis\":{\"endlinecolor\":\"#2a3f5f\",\"gridcolor\":\"white\",\"linecolor\":\"white\",\"minorgridcolor\":\"white\",\"startlinecolor\":\"#2a3f5f\"},\"type\":\"carpet\"}],\"table\":[{\"cells\":{\"fill\":{\"color\":\"#EBF0F8\"},\"line\":{\"color\":\"white\"}},\"header\":{\"fill\":{\"color\":\"#C8D4E3\"},\"line\":{\"color\":\"white\"}},\"type\":\"table\"}],\"barpolar\":[{\"marker\":{\"line\":{\"color\":\"#E5ECF6\",\"width\":0.5},\"pattern\":{\"fillmode\":\"overlay\",\"size\":10,\"solidity\":0.2}},\"type\":\"barpolar\"}],\"pie\":[{\"automargin\":true,\"type\":\"pie\"}]},\"layout\":{\"autotypenumbers\":\"strict\",\"colorway\":[\"#636efa\",\"#EF553B\",\"#00cc96\",\"#ab63fa\",\"#FFA15A\",\"#19d3f3\",\"#FF6692\",\"#B6E880\",\"#FF97FF\",\"#FECB52\"],\"font\":{\"color\":\"#2a3f5f\"},\"hovermode\":\"closest\",\"hoverlabel\":{\"align\":\"left\"},\"paper_bgcolor\":\"white\",\"plot_bgcolor\":\"#E5ECF6\",\"polar\":{\"bgcolor\":\"#E5ECF6\",\"angularaxis\":{\"gridcolor\":\"white\",\"linecolor\":\"white\",\"ticks\":\"\"},\"radialaxis\":{\"gridcolor\":\"white\",\"linecolor\":\"white\",\"ticks\":\"\"}},\"ternary\":{\"bgcolor\":\"#E5ECF6\",\"aaxis\":{\"gridcolor\":\"white\",\"linecolor\":\"white\",\"ticks\":\"\"},\"baxis\":{\"gridcolor\":\"white\",\"linecolor\":\"white\",\"ticks\":\"\"},\"caxis\":{\"gridcolor\":\"white\",\"linecolor\":\"white\",\"ticks\":\"\"}},\"coloraxis\":{\"colorbar\":{\"outlinewidth\":0,\"ticks\":\"\"}},\"colorscale\":{\"sequential\":[[0.0,\"#0d0887\"],[0.1111111111111111,\"#46039f\"],[0.2222222222222222,\"#7201a8\"],[0.3333333333333333,\"#9c179e\"],[0.4444444444444444,\"#bd3786\"],[0.5555555555555556,\"#d8576b\"],[0.6666666666666666,\"#ed7953\"],[0.7777777777777778,\"#fb9f3a\"],[0.8888888888888888,\"#fdca26\"],[1.0,\"#f0f921\"]],\"sequentialminus\":[[0.0,\"#0d0887\"],[0.1111111111111111,\"#46039f\"],[0.2222222222222222,\"#7201a8\"],[0.3333333333333333,\"#9c179e\"],[0.4444444444444444,\"#bd3786\"],[0.5555555555555556,\"#d8576b\"],[0.6666666666666666,\"#ed7953\"],[0.7777777777777778,\"#fb9f3a\"],[0.8888888888888888,\"#fdca26\"],[1.0,\"#f0f921\"]],\"diverging\":[[0,\"#8e0152\"],[0.1,\"#c51b7d\"],[0.2,\"#de77ae\"],[0.3,\"#f1b6da\"],[0.4,\"#fde0ef\"],[0.5,\"#f7f7f7\"],[0.6,\"#e6f5d0\"],[0.7,\"#b8e186\"],[0.8,\"#7fbc41\"],[0.9,\"#4d9221\"],[1,\"#276419\"]]},\"xaxis\":{\"gridcolor\":\"white\",\"linecolor\":\"white\",\"ticks\":\"\",\"title\":{\"standoff\":15},\"zerolinecolor\":\"white\",\"automargin\":true,\"zerolinewidth\":2},\"yaxis\":{\"gridcolor\":\"white\",\"linecolor\":\"white\",\"ticks\":\"\",\"title\":{\"standoff\":15},\"zerolinecolor\":\"white\",\"automargin\":true,\"zerolinewidth\":2},\"scene\":{\"xaxis\":{\"backgroundcolor\":\"#E5ECF6\",\"gridcolor\":\"white\",\"linecolor\":\"white\",\"showbackground\":true,\"ticks\":\"\",\"zerolinecolor\":\"white\",\"gridwidth\":2},\"yaxis\":{\"backgroundcolor\":\"#E5ECF6\",\"gridcolor\":\"white\",\"linecolor\":\"white\",\"showbackground\":true,\"ticks\":\"\",\"zerolinecolor\":\"white\",\"gridwidth\":2},\"zaxis\":{\"backgroundcolor\":\"#E5ECF6\",\"gridcolor\":\"white\",\"linecolor\":\"white\",\"showbackground\":true,\"ticks\":\"\",\"zerolinecolor\":\"white\",\"gridwidth\":2}},\"shapedefaults\":{\"line\":{\"color\":\"#2a3f5f\"}},\"annotationdefaults\":{\"arrowcolor\":\"#2a3f5f\",\"arrowhead\":0,\"arrowwidth\":1},\"geo\":{\"bgcolor\":\"white\",\"landcolor\":\"#E5ECF6\",\"subunitcolor\":\"white\",\"showland\":true,\"showlakes\":true,\"lakecolor\":\"white\"},\"title\":{\"x\":0.05},\"mapbox\":{\"style\":\"light\"}}},\"legend\":{\"yanchor\":\"top\",\"y\":0.99,\"xanchor\":\"left\",\"x\":0.01},\"xaxis\":{\"title\":{\"text\":\"Time (s)\"}},\"yaxis\":{\"title\":{\"text\":\"Knee Angle (deg)\"}},\"title\":{\"text\":\"Comparison of Knee Angle in Time for Walking Activity (Index: 15)\"}},                        {\"responsive\": true}                    ).then(function(){\n",
       "                            \n",
       "var gd = document.getElementById('8cff94a5-ae7c-4b8e-850a-44333b71ef08');\n",
       "var x = new MutationObserver(function (mutations, observer) {{\n",
       "        var display = window.getComputedStyle(gd).display;\n",
       "        if (!display || display === 'none') {{\n",
       "            console.log([gd, 'removed!']);\n",
       "            Plotly.purge(gd);\n",
       "            observer.disconnect();\n",
       "        }}\n",
       "}});\n",
       "\n",
       "// Listen for the removal of the full notebook cells\n",
       "var notebookContainer = gd.closest('#notebook-container');\n",
       "if (notebookContainer) {{\n",
       "    x.observe(notebookContainer, {childList: true});\n",
       "}}\n",
       "\n",
       "// Listen for the clearing of the current output cell\n",
       "var outputEl = gd.closest('.output');\n",
       "if (outputEl) {{\n",
       "    x.observe(outputEl, {childList: true});\n",
       "}}\n",
       "\n",
       "                        })                };                });            </script>        </div>"
      ]
     },
     "metadata": {},
     "output_type": "display_data"
    }
   ],
   "source": [
    "\n",
    "# Define the index of the dataframe to compare #7, #8, #6 # 15, \n",
    "idx = 15\n",
    "\n",
    "# Get the dataframes from both lists using the index\n",
    "right_df = right_dfs[idx]\n",
    "denoised_right_df = denoised_right_dfs[idx]\n",
    "\n",
    "# Check if the activity column has walking in it\n",
    "if 'walking' in right_df['activity'].unique():\n",
    "\n",
    "    # Filter the dataframes to only include walking activity\n",
    "    right_walking = right_df[right_df['activity'] == 'walking'].head(200)\n",
    "    denoised_right_walking = denoised_right_df[denoised_right_df['activity'] == 'walking'].head(200)\n",
    "\n",
    "    # Plot the knee angle in time for walking activity\n",
    "    fig = go.Figure()\n",
    "    fig.add_trace(go.Scatter(x=right_walking['time'], y=right_walking['knee_angle'], name='right Knee Angle'))\n",
    "    fig.add_trace(go.Scatter(x=denoised_right_walking['time'], y=denoised_right_walking['knee_angle'], name='denoised right Knee Angle'))\n",
    "    fig.update_layout(xaxis_title='Time (s)', yaxis_title='Knee Angle (deg)',\n",
    "                      title=f'Comparison of Knee Angle in Time for Walking Activity (Index: {idx})', legend=dict(yanchor=\"top\", y=0.99, xanchor=\"left\", x=0.01))\n",
    "    fig.show()\n",
    "\n",
    "else:\n",
    "    print(\"Check another dataframe, 'walking' activity not found\")"
   ]
  },
  {
   "cell_type": "code",
   "execution_count": null,
   "id": "4f8aeed6",
   "metadata": {
    "papermill": {
     "duration": 0.100091,
     "end_time": "2023-03-20T18:00:33.897478",
     "exception": false,
     "start_time": "2023-03-20T18:00:33.797387",
     "status": "completed"
    },
    "tags": []
   },
   "outputs": [],
   "source": []
  },
  {
   "cell_type": "code",
   "execution_count": null,
   "id": "c647d2ad",
   "metadata": {
    "papermill": {
     "duration": 0.102664,
     "end_time": "2023-03-20T18:00:34.102140",
     "exception": false,
     "start_time": "2023-03-20T18:00:33.999476",
     "status": "completed"
    },
    "tags": []
   },
   "outputs": [],
   "source": []
  },
  {
   "cell_type": "code",
   "execution_count": null,
   "id": "3549da29",
   "metadata": {
    "papermill": {
     "duration": 0.100235,
     "end_time": "2023-03-20T18:00:34.303914",
     "exception": false,
     "start_time": "2023-03-20T18:00:34.203679",
     "status": "completed"
    },
    "tags": []
   },
   "outputs": [],
   "source": []
  },
  {
   "cell_type": "code",
   "execution_count": null,
   "id": "afb2d5d4",
   "metadata": {
    "papermill": {
     "duration": 0.109542,
     "end_time": "2023-03-20T18:00:34.518272",
     "exception": false,
     "start_time": "2023-03-20T18:00:34.408730",
     "status": "completed"
    },
    "tags": []
   },
   "outputs": [],
   "source": []
  },
  {
   "cell_type": "code",
   "execution_count": null,
   "id": "d9c3914c",
   "metadata": {
    "papermill": {
     "duration": 0.101298,
     "end_time": "2023-03-20T18:00:34.722156",
     "exception": false,
     "start_time": "2023-03-20T18:00:34.620858",
     "status": "completed"
    },
    "tags": []
   },
   "outputs": [],
   "source": []
  },
  {
   "cell_type": "code",
   "execution_count": null,
   "id": "5f346f81",
   "metadata": {
    "papermill": {
     "duration": 0.102475,
     "end_time": "2023-03-20T18:00:34.928187",
     "exception": false,
     "start_time": "2023-03-20T18:00:34.825712",
     "status": "completed"
    },
    "tags": []
   },
   "outputs": [],
   "source": []
  },
  {
   "cell_type": "code",
   "execution_count": null,
   "id": "cd2d7ea7",
   "metadata": {
    "papermill": {
     "duration": 0.099805,
     "end_time": "2023-03-20T18:00:35.143555",
     "exception": false,
     "start_time": "2023-03-20T18:00:35.043750",
     "status": "completed"
    },
    "tags": []
   },
   "outputs": [],
   "source": []
  },
  {
   "cell_type": "code",
   "execution_count": null,
   "id": "9209d5cc",
   "metadata": {
    "papermill": {
     "duration": 0.103042,
     "end_time": "2023-03-20T18:00:35.346912",
     "exception": false,
     "start_time": "2023-03-20T18:00:35.243870",
     "status": "completed"
    },
    "tags": []
   },
   "outputs": [],
   "source": []
  },
  {
   "cell_type": "code",
   "execution_count": null,
   "id": "f84dec8e",
   "metadata": {
    "papermill": {
     "duration": 0.103475,
     "end_time": "2023-03-20T18:00:35.554984",
     "exception": false,
     "start_time": "2023-03-20T18:00:35.451509",
     "status": "completed"
    },
    "tags": []
   },
   "outputs": [],
   "source": []
  },
  {
   "cell_type": "code",
   "execution_count": null,
   "id": "0a40edd5",
   "metadata": {
    "papermill": {
     "duration": 0.101776,
     "end_time": "2023-03-20T18:00:35.758881",
     "exception": false,
     "start_time": "2023-03-20T18:00:35.657105",
     "status": "completed"
    },
    "tags": []
   },
   "outputs": [],
   "source": []
  },
  {
   "cell_type": "code",
   "execution_count": null,
   "id": "3cf20891",
   "metadata": {
    "papermill": {
     "duration": 0.102126,
     "end_time": "2023-03-20T18:00:35.963640",
     "exception": false,
     "start_time": "2023-03-20T18:00:35.861514",
     "status": "completed"
    },
    "tags": []
   },
   "outputs": [],
   "source": []
  },
  {
   "cell_type": "code",
   "execution_count": null,
   "id": "1e44cbbe",
   "metadata": {
    "papermill": {
     "duration": 0.09988,
     "end_time": "2023-03-20T18:00:36.163972",
     "exception": false,
     "start_time": "2023-03-20T18:00:36.064092",
     "status": "completed"
    },
    "tags": []
   },
   "outputs": [],
   "source": []
  },
  {
   "cell_type": "code",
   "execution_count": null,
   "id": "d3758db6",
   "metadata": {
    "papermill": {
     "duration": 0.104778,
     "end_time": "2023-03-20T18:00:36.370563",
     "exception": false,
     "start_time": "2023-03-20T18:00:36.265785",
     "status": "completed"
    },
    "tags": []
   },
   "outputs": [],
   "source": []
  }
 ],
 "metadata": {
  "kernelspec": {
   "display_name": "Python 3 (ipykernel)",
   "language": "python",
   "name": "python3"
  },
  "language_info": {
   "codemirror_mode": {
    "name": "ipython",
    "version": 3
   },
   "file_extension": ".py",
   "mimetype": "text/x-python",
   "name": "python",
   "nbconvert_exporter": "python",
   "pygments_lexer": "ipython3",
   "version": "3.11.3"
  },
  "papermill": {
   "default_parameters": {},
   "duration": 5913.372604,
   "end_time": "2023-03-20T18:00:38.113725",
   "environment_variables": {},
   "exception": null,
   "input_path": "__notebook__.ipynb",
   "output_path": "__notebook__.ipynb",
   "parameters": {},
   "start_time": "2023-03-20T16:22:04.741121",
   "version": "2.4.0"
  }
 },
 "nbformat": 4,
 "nbformat_minor": 5
}
